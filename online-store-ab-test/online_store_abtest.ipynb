{
 "cells": [
  {
   "cell_type": "markdown",
   "metadata": {},
   "source": [
    "# Анализ гипотез для увеличения выручки интернет-магазина"
   ]
  },
  {
   "cell_type": "markdown",
   "metadata": {},
   "source": [
    "**Цель проекта:** предоставить данные, которые могут помочь увеличению выручки крупного интернет-магазина.\n",
    "\n",
    "**Исходные данные:** имеем подготовленный вместе с отделом маркетинга список гипотез.\n",
    "\n",
    "**Задачи:**\n",
    "1. приоритизация гипотез;\n",
    "2. запуск A/B-теста и анализ результатов.\n"
   ]
  },
  {
   "cell_type": "markdown",
   "metadata": {},
   "source": [
    "## Загрузка и подготовка данных"
   ]
  },
  {
   "cell_type": "code",
   "execution_count": 20,
   "metadata": {},
   "outputs": [],
   "source": [
    "import plotly.graph_objs as go\n",
    "import matplotlib.pyplot as plt\n",
    "import scipy.stats as stats\n",
    "import plotly.express as px\n",
    "import scipy.stats as st\n",
    "import datetime as dt\n",
    "import seaborn as sns\n",
    "import pandas as pd \n",
    "import numpy as np\n",
    "import warnings\n",
    "import math\n",
    "\n",
    "warnings.filterwarnings('ignore')"
   ]
  },
  {
   "cell_type": "markdown",
   "metadata": {},
   "source": [
    "### Загрузка данных"
   ]
  },
  {
   "cell_type": "markdown",
   "metadata": {},
   "source": [
    "Положим данные о гипотезах, заказах и пользователей в переменные:"
   ]
  },
  {
   "cell_type": "code",
   "execution_count": 21,
   "metadata": {},
   "outputs": [],
   "source": [
    "hypothesis = pd.read_csv('hypothesis.csv') \n",
    "orders = pd.read_csv('orders.csv') \n",
    "visitors = pd.read_csv('visitors.csv') "
   ]
  },
  {
   "cell_type": "markdown",
   "metadata": {},
   "source": [
    "Рассмотрим данные внимательнее:"
   ]
  },
  {
   "cell_type": "code",
   "execution_count": 22,
   "metadata": {},
   "outputs": [
    {
     "data": {
      "text/html": [
       "<div>\n",
       "<style scoped>\n",
       "    .dataframe tbody tr th:only-of-type {\n",
       "        vertical-align: middle;\n",
       "    }\n",
       "\n",
       "    .dataframe tbody tr th {\n",
       "        vertical-align: top;\n",
       "    }\n",
       "\n",
       "    .dataframe thead th {\n",
       "        text-align: right;\n",
       "    }\n",
       "</style>\n",
       "<table border=\"1\" class=\"dataframe\">\n",
       "  <thead>\n",
       "    <tr style=\"text-align: right;\">\n",
       "      <th></th>\n",
       "      <th>Hypothesis</th>\n",
       "      <th>Reach</th>\n",
       "      <th>Impact</th>\n",
       "      <th>Confidence</th>\n",
       "      <th>Efforts</th>\n",
       "    </tr>\n",
       "  </thead>\n",
       "  <tbody>\n",
       "    <tr>\n",
       "      <th>0</th>\n",
       "      <td>Добавить два новых канала привлечения трафика,...</td>\n",
       "      <td>3</td>\n",
       "      <td>10</td>\n",
       "      <td>8</td>\n",
       "      <td>6</td>\n",
       "    </tr>\n",
       "    <tr>\n",
       "      <th>1</th>\n",
       "      <td>Запустить собственную службу доставки, что сок...</td>\n",
       "      <td>2</td>\n",
       "      <td>5</td>\n",
       "      <td>4</td>\n",
       "      <td>10</td>\n",
       "    </tr>\n",
       "    <tr>\n",
       "      <th>2</th>\n",
       "      <td>Добавить блоки рекомендаций товаров на сайт ин...</td>\n",
       "      <td>8</td>\n",
       "      <td>3</td>\n",
       "      <td>7</td>\n",
       "      <td>3</td>\n",
       "    </tr>\n",
       "    <tr>\n",
       "      <th>3</th>\n",
       "      <td>Изменить структура категорий, что увеличит кон...</td>\n",
       "      <td>8</td>\n",
       "      <td>3</td>\n",
       "      <td>3</td>\n",
       "      <td>8</td>\n",
       "    </tr>\n",
       "    <tr>\n",
       "      <th>4</th>\n",
       "      <td>Изменить цвет фона главной страницы, чтобы уве...</td>\n",
       "      <td>3</td>\n",
       "      <td>1</td>\n",
       "      <td>1</td>\n",
       "      <td>1</td>\n",
       "    </tr>\n",
       "    <tr>\n",
       "      <th>5</th>\n",
       "      <td>Добавить страницу отзывов клиентов о магазине,...</td>\n",
       "      <td>3</td>\n",
       "      <td>2</td>\n",
       "      <td>2</td>\n",
       "      <td>3</td>\n",
       "    </tr>\n",
       "    <tr>\n",
       "      <th>6</th>\n",
       "      <td>Показать на главной странице баннеры с актуаль...</td>\n",
       "      <td>5</td>\n",
       "      <td>3</td>\n",
       "      <td>8</td>\n",
       "      <td>3</td>\n",
       "    </tr>\n",
       "    <tr>\n",
       "      <th>7</th>\n",
       "      <td>Добавить форму подписки на все основные страни...</td>\n",
       "      <td>10</td>\n",
       "      <td>7</td>\n",
       "      <td>8</td>\n",
       "      <td>5</td>\n",
       "    </tr>\n",
       "    <tr>\n",
       "      <th>8</th>\n",
       "      <td>Запустить акцию, дающую скидку на товар в день...</td>\n",
       "      <td>1</td>\n",
       "      <td>9</td>\n",
       "      <td>9</td>\n",
       "      <td>5</td>\n",
       "    </tr>\n",
       "  </tbody>\n",
       "</table>\n",
       "</div>"
      ],
      "text/plain": [
       "                                          Hypothesis  Reach  Impact  \\\n",
       "0  Добавить два новых канала привлечения трафика,...      3      10   \n",
       "1  Запустить собственную службу доставки, что сок...      2       5   \n",
       "2  Добавить блоки рекомендаций товаров на сайт ин...      8       3   \n",
       "3  Изменить структура категорий, что увеличит кон...      8       3   \n",
       "4  Изменить цвет фона главной страницы, чтобы уве...      3       1   \n",
       "5  Добавить страницу отзывов клиентов о магазине,...      3       2   \n",
       "6  Показать на главной странице баннеры с актуаль...      5       3   \n",
       "7  Добавить форму подписки на все основные страни...     10       7   \n",
       "8  Запустить акцию, дающую скидку на товар в день...      1       9   \n",
       "\n",
       "   Confidence  Efforts  \n",
       "0           8        6  \n",
       "1           4       10  \n",
       "2           7        3  \n",
       "3           3        8  \n",
       "4           1        1  \n",
       "5           2        3  \n",
       "6           8        3  \n",
       "7           8        5  \n",
       "8           9        5  "
      ]
     },
     "execution_count": 22,
     "metadata": {},
     "output_type": "execute_result"
    }
   ],
   "source": [
    "hypothesis"
   ]
  },
  {
   "cell_type": "code",
   "execution_count": 23,
   "metadata": {},
   "outputs": [
    {
     "data": {
      "text/html": [
       "<div>\n",
       "<style scoped>\n",
       "    .dataframe tbody tr th:only-of-type {\n",
       "        vertical-align: middle;\n",
       "    }\n",
       "\n",
       "    .dataframe tbody tr th {\n",
       "        vertical-align: top;\n",
       "    }\n",
       "\n",
       "    .dataframe thead th {\n",
       "        text-align: right;\n",
       "    }\n",
       "</style>\n",
       "<table border=\"1\" class=\"dataframe\">\n",
       "  <thead>\n",
       "    <tr style=\"text-align: right;\">\n",
       "      <th></th>\n",
       "      <th>transactionId</th>\n",
       "      <th>visitorId</th>\n",
       "      <th>date</th>\n",
       "      <th>revenue</th>\n",
       "      <th>group</th>\n",
       "    </tr>\n",
       "  </thead>\n",
       "  <tbody>\n",
       "    <tr>\n",
       "      <th>0</th>\n",
       "      <td>3667963787</td>\n",
       "      <td>3312258926</td>\n",
       "      <td>2019-08-15</td>\n",
       "      <td>1650</td>\n",
       "      <td>B</td>\n",
       "    </tr>\n",
       "    <tr>\n",
       "      <th>1</th>\n",
       "      <td>2804400009</td>\n",
       "      <td>3642806036</td>\n",
       "      <td>2019-08-15</td>\n",
       "      <td>730</td>\n",
       "      <td>B</td>\n",
       "    </tr>\n",
       "    <tr>\n",
       "      <th>2</th>\n",
       "      <td>2961555356</td>\n",
       "      <td>4069496402</td>\n",
       "      <td>2019-08-15</td>\n",
       "      <td>400</td>\n",
       "      <td>A</td>\n",
       "    </tr>\n",
       "    <tr>\n",
       "      <th>3</th>\n",
       "      <td>3797467345</td>\n",
       "      <td>1196621759</td>\n",
       "      <td>2019-08-15</td>\n",
       "      <td>9759</td>\n",
       "      <td>B</td>\n",
       "    </tr>\n",
       "    <tr>\n",
       "      <th>4</th>\n",
       "      <td>2282983706</td>\n",
       "      <td>2322279887</td>\n",
       "      <td>2019-08-15</td>\n",
       "      <td>2308</td>\n",
       "      <td>B</td>\n",
       "    </tr>\n",
       "  </tbody>\n",
       "</table>\n",
       "</div>"
      ],
      "text/plain": [
       "   transactionId   visitorId        date  revenue group\n",
       "0     3667963787  3312258926  2019-08-15     1650     B\n",
       "1     2804400009  3642806036  2019-08-15      730     B\n",
       "2     2961555356  4069496402  2019-08-15      400     A\n",
       "3     3797467345  1196621759  2019-08-15     9759     B\n",
       "4     2282983706  2322279887  2019-08-15     2308     B"
      ]
     },
     "execution_count": 23,
     "metadata": {},
     "output_type": "execute_result"
    }
   ],
   "source": [
    "orders.head()"
   ]
  },
  {
   "cell_type": "markdown",
   "metadata": {},
   "source": [
    "На всякий случай проверим, сколько уникальных занчений в столбце group:"
   ]
  },
  {
   "cell_type": "code",
   "execution_count": 24,
   "metadata": {},
   "outputs": [
    {
     "data": {
      "text/plain": [
       "array(['B', 'A'], dtype=object)"
      ]
     },
     "execution_count": 24,
     "metadata": {},
     "output_type": "execute_result"
    }
   ],
   "source": [
    "orders['group'].unique()"
   ]
  },
  {
   "cell_type": "code",
   "execution_count": 25,
   "metadata": {},
   "outputs": [
    {
     "data": {
      "text/html": [
       "<div>\n",
       "<style scoped>\n",
       "    .dataframe tbody tr th:only-of-type {\n",
       "        vertical-align: middle;\n",
       "    }\n",
       "\n",
       "    .dataframe tbody tr th {\n",
       "        vertical-align: top;\n",
       "    }\n",
       "\n",
       "    .dataframe thead th {\n",
       "        text-align: right;\n",
       "    }\n",
       "</style>\n",
       "<table border=\"1\" class=\"dataframe\">\n",
       "  <thead>\n",
       "    <tr style=\"text-align: right;\">\n",
       "      <th></th>\n",
       "      <th>date</th>\n",
       "      <th>group</th>\n",
       "      <th>visitors</th>\n",
       "    </tr>\n",
       "  </thead>\n",
       "  <tbody>\n",
       "    <tr>\n",
       "      <th>0</th>\n",
       "      <td>2019-08-01</td>\n",
       "      <td>A</td>\n",
       "      <td>719</td>\n",
       "    </tr>\n",
       "    <tr>\n",
       "      <th>1</th>\n",
       "      <td>2019-08-02</td>\n",
       "      <td>A</td>\n",
       "      <td>619</td>\n",
       "    </tr>\n",
       "    <tr>\n",
       "      <th>2</th>\n",
       "      <td>2019-08-03</td>\n",
       "      <td>A</td>\n",
       "      <td>507</td>\n",
       "    </tr>\n",
       "    <tr>\n",
       "      <th>3</th>\n",
       "      <td>2019-08-04</td>\n",
       "      <td>A</td>\n",
       "      <td>717</td>\n",
       "    </tr>\n",
       "    <tr>\n",
       "      <th>4</th>\n",
       "      <td>2019-08-05</td>\n",
       "      <td>A</td>\n",
       "      <td>756</td>\n",
       "    </tr>\n",
       "  </tbody>\n",
       "</table>\n",
       "</div>"
      ],
      "text/plain": [
       "         date group  visitors\n",
       "0  2019-08-01     A       719\n",
       "1  2019-08-02     A       619\n",
       "2  2019-08-03     A       507\n",
       "3  2019-08-04     A       717\n",
       "4  2019-08-05     A       756"
      ]
     },
     "execution_count": 25,
     "metadata": {},
     "output_type": "execute_result"
    }
   ],
   "source": [
    "visitors.head()"
   ]
  },
  {
   "cell_type": "markdown",
   "metadata": {},
   "source": [
    "Аналогично таблице с заказами проверим, сколько уникальных занчений в столбце group:"
   ]
  },
  {
   "cell_type": "code",
   "execution_count": 26,
   "metadata": {},
   "outputs": [
    {
     "data": {
      "text/plain": [
       "array(['A', 'B'], dtype=object)"
      ]
     },
     "execution_count": 26,
     "metadata": {},
     "output_type": "execute_result"
    }
   ],
   "source": [
    "visitors['group'].unique()"
   ]
  },
  {
   "cell_type": "markdown",
   "metadata": {},
   "source": [
    "### Подготовка данных"
   ]
  },
  {
   "cell_type": "markdown",
   "metadata": {},
   "source": [
    "Подготовим данные. Убедимся, что тип данных во всех колонках соответствует сохранённым в них значениям."
   ]
  },
  {
   "cell_type": "code",
   "execution_count": 27,
   "metadata": {},
   "outputs": [
    {
     "name": "stdout",
     "output_type": "stream",
     "text": [
      "<class 'pandas.core.frame.DataFrame'>\n",
      "RangeIndex: 9 entries, 0 to 8\n",
      "Data columns (total 5 columns):\n",
      " #   Column      Non-Null Count  Dtype \n",
      "---  ------      --------------  ----- \n",
      " 0   Hypothesis  9 non-null      object\n",
      " 1   Reach       9 non-null      int64 \n",
      " 2   Impact      9 non-null      int64 \n",
      " 3   Confidence  9 non-null      int64 \n",
      " 4   Efforts     9 non-null      int64 \n",
      "dtypes: int64(4), object(1)\n",
      "memory usage: 488.0+ bytes\n"
     ]
    }
   ],
   "source": [
    "hypothesis.info()"
   ]
  },
  {
   "cell_type": "code",
   "execution_count": 28,
   "metadata": {},
   "outputs": [
    {
     "name": "stdout",
     "output_type": "stream",
     "text": [
      "<class 'pandas.core.frame.DataFrame'>\n",
      "RangeIndex: 1197 entries, 0 to 1196\n",
      "Data columns (total 5 columns):\n",
      " #   Column         Non-Null Count  Dtype \n",
      "---  ------         --------------  ----- \n",
      " 0   transactionId  1197 non-null   int64 \n",
      " 1   visitorId      1197 non-null   int64 \n",
      " 2   date           1197 non-null   object\n",
      " 3   revenue        1197 non-null   int64 \n",
      " 4   group          1197 non-null   object\n",
      "dtypes: int64(3), object(2)\n",
      "memory usage: 46.9+ KB\n"
     ]
    }
   ],
   "source": [
    "orders.info()"
   ]
  },
  {
   "cell_type": "code",
   "execution_count": 29,
   "metadata": {},
   "outputs": [
    {
     "name": "stdout",
     "output_type": "stream",
     "text": [
      "<class 'pandas.core.frame.DataFrame'>\n",
      "RangeIndex: 62 entries, 0 to 61\n",
      "Data columns (total 3 columns):\n",
      " #   Column    Non-Null Count  Dtype \n",
      "---  ------    --------------  ----- \n",
      " 0   date      62 non-null     object\n",
      " 1   group     62 non-null     object\n",
      " 2   visitors  62 non-null     int64 \n",
      "dtypes: int64(1), object(2)\n",
      "memory usage: 1.6+ KB\n"
     ]
    }
   ],
   "source": [
    "visitors.info()"
   ]
  },
  {
   "cell_type": "markdown",
   "metadata": {},
   "source": [
    "Приведем столбцы с датами к соотв. типу:"
   ]
  },
  {
   "cell_type": "code",
   "execution_count": 30,
   "metadata": {},
   "outputs": [],
   "source": [
    "orders['date'] = orders['date'].map(lambda x: dt.datetime.strptime(x, '%Y-%m-%d'))\n",
    "visitors['date'] = visitors['date'].map(lambda x: dt.datetime.strptime(x, '%Y-%m-%d'))"
   ]
  },
  {
   "cell_type": "markdown",
   "metadata": {},
   "source": [
    "Приведем остальные столбцы к нужному типу:"
   ]
  },
  {
   "cell_type": "code",
   "execution_count": 31,
   "metadata": {},
   "outputs": [],
   "source": [
    "hypothesis['Reach'] = np.uint16(hypothesis['Reach'])\n",
    "hypothesis['Impact'] = np.uint16(hypothesis['Impact']) \n",
    "hypothesis['Confidence'] = np.uint16(hypothesis['Confidence']) \n",
    "hypothesis['Efforts'] = np.uint16(hypothesis['Efforts'])\n",
    "#orders['group'] = orders['group'].astype('category')\n",
    "#visitors['group'] = visitors['group'].astype('category')"
   ]
  },
  {
   "cell_type": "markdown",
   "metadata": {},
   "source": [
    "Проверим временной интервал по датам в таблицах с заказами и посетителями:"
   ]
  },
  {
   "cell_type": "code",
   "execution_count": 32,
   "metadata": {},
   "outputs": [
    {
     "data": {
      "text/plain": [
       "count                    1197\n",
       "unique                     31\n",
       "top       2019-08-05 00:00:00\n",
       "freq                       48\n",
       "first     2019-08-01 00:00:00\n",
       "last      2019-08-31 00:00:00\n",
       "Name: date, dtype: object"
      ]
     },
     "execution_count": 32,
     "metadata": {},
     "output_type": "execute_result"
    }
   ],
   "source": [
    "orders['date'].describe()"
   ]
  },
  {
   "cell_type": "code",
   "execution_count": 33,
   "metadata": {},
   "outputs": [
    {
     "data": {
      "text/plain": [
       "count                      62\n",
       "unique                     31\n",
       "top       2019-08-27 00:00:00\n",
       "freq                        2\n",
       "first     2019-08-01 00:00:00\n",
       "last      2019-08-31 00:00:00\n",
       "Name: date, dtype: object"
      ]
     },
     "execution_count": 33,
     "metadata": {},
     "output_type": "execute_result"
    }
   ],
   "source": [
    "visitors['date'].describe()"
   ]
  },
  {
   "cell_type": "markdown",
   "metadata": {},
   "source": [
    "Итак, период А/В теста: с 1 по 30 августа 2019 года."
   ]
  },
  {
   "cell_type": "markdown",
   "metadata": {},
   "source": [
    "Убедимся, что пользователи в группах разные, т. е. не может быть в двух группах одинаковых пользователей."
   ]
  },
  {
   "cell_type": "markdown",
   "metadata": {},
   "source": [
    "Проверим, скольк уникальных пользователей в каждой из групп:"
   ]
  },
  {
   "cell_type": "code",
   "execution_count": 34,
   "metadata": {},
   "outputs": [
    {
     "data": {
      "text/html": [
       "<div>\n",
       "<style scoped>\n",
       "    .dataframe tbody tr th:only-of-type {\n",
       "        vertical-align: middle;\n",
       "    }\n",
       "\n",
       "    .dataframe tbody tr th {\n",
       "        vertical-align: top;\n",
       "    }\n",
       "\n",
       "    .dataframe thead th {\n",
       "        text-align: right;\n",
       "    }\n",
       "</style>\n",
       "<table border=\"1\" class=\"dataframe\">\n",
       "  <thead>\n",
       "    <tr style=\"text-align: right;\">\n",
       "      <th></th>\n",
       "      <th>group</th>\n",
       "      <th>visitors</th>\n",
       "    </tr>\n",
       "  </thead>\n",
       "  <tbody>\n",
       "    <tr>\n",
       "      <th>0</th>\n",
       "      <td>A</td>\n",
       "      <td>503</td>\n",
       "    </tr>\n",
       "    <tr>\n",
       "      <th>1</th>\n",
       "      <td>B</td>\n",
       "      <td>586</td>\n",
       "    </tr>\n",
       "  </tbody>\n",
       "</table>\n",
       "</div>"
      ],
      "text/plain": [
       "  group  visitors\n",
       "0     A       503\n",
       "1     B       586"
      ]
     },
     "execution_count": 34,
     "metadata": {},
     "output_type": "execute_result"
    }
   ],
   "source": [
    "usersByGroup = (\n",
    "    orders.drop(['transactionId', 'revenue', 'date'], axis=1) \n",
    "    .groupby('group', as_index=False) \n",
    "    .agg({'visitorId': pd.Series.nunique})\n",
    ")\n",
    "usersByGroup.columns = ['group','visitors']\n",
    "usersByGroup"
   ]
  },
  {
   "cell_type": "markdown",
   "metadata": {},
   "source": [
    "Выделим отдельно всех дублиурующихся пользователей:"
   ]
  },
  {
   "cell_type": "code",
   "execution_count": 35,
   "metadata": {},
   "outputs": [
    {
     "data": {
      "text/html": [
       "<div>\n",
       "<style scoped>\n",
       "    .dataframe tbody tr th:only-of-type {\n",
       "        vertical-align: middle;\n",
       "    }\n",
       "\n",
       "    .dataframe tbody tr th {\n",
       "        vertical-align: top;\n",
       "    }\n",
       "\n",
       "    .dataframe thead th {\n",
       "        text-align: right;\n",
       "    }\n",
       "</style>\n",
       "<table border=\"1\" class=\"dataframe\">\n",
       "  <thead>\n",
       "    <tr style=\"text-align: right;\">\n",
       "      <th></th>\n",
       "      <th>transactionId</th>\n",
       "      <th>visitorId</th>\n",
       "      <th>date</th>\n",
       "      <th>revenue</th>\n",
       "      <th>group</th>\n",
       "    </tr>\n",
       "  </thead>\n",
       "  <tbody>\n",
       "    <tr>\n",
       "      <th>71</th>\n",
       "      <td>3679129301</td>\n",
       "      <td>8300375</td>\n",
       "      <td>2019-08-01</td>\n",
       "      <td>10510</td>\n",
       "      <td>B</td>\n",
       "    </tr>\n",
       "    <tr>\n",
       "      <th>703</th>\n",
       "      <td>4293855558</td>\n",
       "      <td>8300375</td>\n",
       "      <td>2019-08-07</td>\n",
       "      <td>1790</td>\n",
       "      <td>A</td>\n",
       "    </tr>\n",
       "    <tr>\n",
       "      <th>1102</th>\n",
       "      <td>1941707234</td>\n",
       "      <td>199603092</td>\n",
       "      <td>2019-08-12</td>\n",
       "      <td>6438</td>\n",
       "      <td>A</td>\n",
       "    </tr>\n",
       "    <tr>\n",
       "      <th>823</th>\n",
       "      <td>2971973105</td>\n",
       "      <td>199603092</td>\n",
       "      <td>2019-08-27</td>\n",
       "      <td>2790</td>\n",
       "      <td>A</td>\n",
       "    </tr>\n",
       "    <tr>\n",
       "      <th>134</th>\n",
       "      <td>62794304</td>\n",
       "      <td>199603092</td>\n",
       "      <td>2019-08-22</td>\n",
       "      <td>6976</td>\n",
       "      <td>A</td>\n",
       "    </tr>\n",
       "    <tr>\n",
       "      <th>26</th>\n",
       "      <td>2223239646</td>\n",
       "      <td>199603092</td>\n",
       "      <td>2019-08-15</td>\n",
       "      <td>3488</td>\n",
       "      <td>A</td>\n",
       "    </tr>\n",
       "    <tr>\n",
       "      <th>246</th>\n",
       "      <td>437656952</td>\n",
       "      <td>199603092</td>\n",
       "      <td>2019-08-02</td>\n",
       "      <td>3488</td>\n",
       "      <td>B</td>\n",
       "    </tr>\n",
       "    <tr>\n",
       "      <th>1013</th>\n",
       "      <td>83566152</td>\n",
       "      <td>232979603</td>\n",
       "      <td>2019-08-31</td>\n",
       "      <td>60</td>\n",
       "      <td>A</td>\n",
       "    </tr>\n",
       "    <tr>\n",
       "      <th>1009</th>\n",
       "      <td>2670069237</td>\n",
       "      <td>232979603</td>\n",
       "      <td>2019-08-31</td>\n",
       "      <td>2640</td>\n",
       "      <td>B</td>\n",
       "    </tr>\n",
       "    <tr>\n",
       "      <th>1097</th>\n",
       "      <td>3357467820</td>\n",
       "      <td>237748145</td>\n",
       "      <td>2019-08-12</td>\n",
       "      <td>340</td>\n",
       "      <td>A</td>\n",
       "    </tr>\n",
       "  </tbody>\n",
       "</table>\n",
       "</div>"
      ],
      "text/plain": [
       "      transactionId  visitorId       date  revenue group\n",
       "71       3679129301    8300375 2019-08-01    10510     B\n",
       "703      4293855558    8300375 2019-08-07     1790     A\n",
       "1102     1941707234  199603092 2019-08-12     6438     A\n",
       "823      2971973105  199603092 2019-08-27     2790     A\n",
       "134        62794304  199603092 2019-08-22     6976     A\n",
       "26       2223239646  199603092 2019-08-15     3488     A\n",
       "246       437656952  199603092 2019-08-02     3488     B\n",
       "1013       83566152  232979603 2019-08-31       60     A\n",
       "1009     2670069237  232979603 2019-08-31     2640     B\n",
       "1097     3357467820  237748145 2019-08-12      340     A"
      ]
     },
     "execution_count": 35,
     "metadata": {},
     "output_type": "execute_result"
    }
   ],
   "source": [
    "visitors_duplicates = orders[orders.duplicated(subset=['visitorId'], keep=False)].sort_values(by='visitorId')\n",
    "visitors_duplicates.head(10)"
   ]
  },
  {
   "cell_type": "markdown",
   "metadata": {},
   "source": [
    "Составим фильтр пользователей, которые входят в обе группы:"
   ]
  },
  {
   "cell_type": "code",
   "execution_count": 36,
   "metadata": {},
   "outputs": [
    {
     "data": {
      "text/html": [
       "<div>\n",
       "<style scoped>\n",
       "    .dataframe tbody tr th:only-of-type {\n",
       "        vertical-align: middle;\n",
       "    }\n",
       "\n",
       "    .dataframe tbody tr th {\n",
       "        vertical-align: top;\n",
       "    }\n",
       "\n",
       "    .dataframe thead th {\n",
       "        text-align: right;\n",
       "    }\n",
       "</style>\n",
       "<table border=\"1\" class=\"dataframe\">\n",
       "  <thead>\n",
       "    <tr style=\"text-align: right;\">\n",
       "      <th></th>\n",
       "      <th>visitorId</th>\n",
       "      <th>group</th>\n",
       "    </tr>\n",
       "  </thead>\n",
       "  <tbody>\n",
       "    <tr>\n",
       "      <th>0</th>\n",
       "      <td>8300375</td>\n",
       "      <td>2</td>\n",
       "    </tr>\n",
       "    <tr>\n",
       "      <th>1</th>\n",
       "      <td>199603092</td>\n",
       "      <td>2</td>\n",
       "    </tr>\n",
       "    <tr>\n",
       "      <th>2</th>\n",
       "      <td>232979603</td>\n",
       "      <td>2</td>\n",
       "    </tr>\n",
       "    <tr>\n",
       "      <th>3</th>\n",
       "      <td>237748145</td>\n",
       "      <td>2</td>\n",
       "    </tr>\n",
       "    <tr>\n",
       "      <th>4</th>\n",
       "      <td>249864742</td>\n",
       "      <td>1</td>\n",
       "    </tr>\n",
       "    <tr>\n",
       "      <th>...</th>\n",
       "      <td>...</td>\n",
       "      <td>...</td>\n",
       "    </tr>\n",
       "    <tr>\n",
       "      <th>89</th>\n",
       "      <td>4120364173</td>\n",
       "      <td>2</td>\n",
       "    </tr>\n",
       "    <tr>\n",
       "      <th>90</th>\n",
       "      <td>4134830387</td>\n",
       "      <td>1</td>\n",
       "    </tr>\n",
       "    <tr>\n",
       "      <th>91</th>\n",
       "      <td>4186807279</td>\n",
       "      <td>2</td>\n",
       "    </tr>\n",
       "    <tr>\n",
       "      <th>92</th>\n",
       "      <td>4256040402</td>\n",
       "      <td>2</td>\n",
       "    </tr>\n",
       "    <tr>\n",
       "      <th>93</th>\n",
       "      <td>4266935830</td>\n",
       "      <td>2</td>\n",
       "    </tr>\n",
       "  </tbody>\n",
       "</table>\n",
       "<p>94 rows × 2 columns</p>\n",
       "</div>"
      ],
      "text/plain": [
       "     visitorId  group\n",
       "0      8300375      2\n",
       "1    199603092      2\n",
       "2    232979603      2\n",
       "3    237748145      2\n",
       "4    249864742      1\n",
       "..         ...    ...\n",
       "89  4120364173      2\n",
       "90  4134830387      1\n",
       "91  4186807279      2\n",
       "92  4256040402      2\n",
       "93  4266935830      2\n",
       "\n",
       "[94 rows x 2 columns]"
      ]
     },
     "execution_count": 36,
     "metadata": {},
     "output_type": "execute_result"
    }
   ],
   "source": [
    "vd = visitors_duplicates.groupby('visitorId', as_index=False).agg({'group': pd.Series.nunique})\n",
    "vd"
   ]
  },
  {
   "cell_type": "markdown",
   "metadata": {},
   "source": [
    "Проверим полученный фильтр:"
   ]
  },
  {
   "cell_type": "code",
   "execution_count": 37,
   "metadata": {},
   "outputs": [
    {
     "data": {
      "text/html": [
       "<div>\n",
       "<style scoped>\n",
       "    .dataframe tbody tr th:only-of-type {\n",
       "        vertical-align: middle;\n",
       "    }\n",
       "\n",
       "    .dataframe tbody tr th {\n",
       "        vertical-align: top;\n",
       "    }\n",
       "\n",
       "    .dataframe thead th {\n",
       "        text-align: right;\n",
       "    }\n",
       "</style>\n",
       "<table border=\"1\" class=\"dataframe\">\n",
       "  <thead>\n",
       "    <tr style=\"text-align: right;\">\n",
       "      <th></th>\n",
       "      <th>transactionId</th>\n",
       "      <th>visitorId</th>\n",
       "      <th>date</th>\n",
       "      <th>revenue</th>\n",
       "      <th>group</th>\n",
       "    </tr>\n",
       "  </thead>\n",
       "  <tbody>\n",
       "    <tr>\n",
       "      <th>71</th>\n",
       "      <td>3679129301</td>\n",
       "      <td>8300375</td>\n",
       "      <td>2019-08-01</td>\n",
       "      <td>10510</td>\n",
       "      <td>B</td>\n",
       "    </tr>\n",
       "    <tr>\n",
       "      <th>703</th>\n",
       "      <td>4293855558</td>\n",
       "      <td>8300375</td>\n",
       "      <td>2019-08-07</td>\n",
       "      <td>1790</td>\n",
       "      <td>A</td>\n",
       "    </tr>\n",
       "  </tbody>\n",
       "</table>\n",
       "</div>"
      ],
      "text/plain": [
       "     transactionId  visitorId       date  revenue group\n",
       "71      3679129301    8300375 2019-08-01    10510     B\n",
       "703     4293855558    8300375 2019-08-07     1790     A"
      ]
     },
     "execution_count": 37,
     "metadata": {},
     "output_type": "execute_result"
    }
   ],
   "source": [
    "visitors_duplicates[visitors_duplicates['visitorId'] == 8300375]"
   ]
  },
  {
   "cell_type": "code",
   "execution_count": 38,
   "metadata": {},
   "outputs": [
    {
     "name": "stdout",
     "output_type": "stream",
     "text": [
      "Ко-во пользователей, которые дублируются в обеих группах: 58\n"
     ]
    }
   ],
   "source": [
    "escape_visitors = vd[vd['group'] == 2]['visitorId']\n",
    "print('Ко-во пользователей, которые дублируются в обеих группах:', escape_visitors.count())"
   ]
  },
  {
   "cell_type": "markdown",
   "metadata": {},
   "source": [
    "Теперь исключим записи с дублирующимися пользователями из группы B, т. к. в этой группе пользователей и так больше, чем в другой группе:"
   ]
  },
  {
   "cell_type": "code",
   "execution_count": 39,
   "metadata": {},
   "outputs": [
    {
     "data": {
      "text/plain": [
       "1105"
      ]
     },
     "execution_count": 39,
     "metadata": {},
     "output_type": "execute_result"
    }
   ],
   "source": [
    "orders = orders[~((orders['visitorId'].isin(escape_visitors)) & (orders['group'] == 'B'))]\n",
    "orders['visitorId'].count()"
   ]
  },
  {
   "cell_type": "markdown",
   "metadata": {},
   "source": [
    "Таким образом, исключили 92 записи дублирующихся пользователей из группы B."
   ]
  },
  {
   "cell_type": "markdown",
   "metadata": {},
   "source": [
    "### Описание данных"
   ]
  },
  {
   "cell_type": "markdown",
   "metadata": {},
   "source": [
    "Имеем 3 таблицы с данными:\n",
    "1. гипотезы по увеличению выручки, 9 шт. с описанием и соотв. параметрами - Reach (охват пользователей по 10-балльной шкале), Impact (влияние на пользователей по 10-балльной шкале), Confidence (уверенность в гипотезе по 10-балльной шкале), Efforts (затраты ресурсов на проверку гипотезы по 10-балльной шкале)\n",
    "2. таблица с заказами\n",
    "3. таблица с посеетителями интернет-магазина\n",
    "\n",
    "Период А/В теста: с 1 по 30 августа 2019 года.\n",
    "\n",
    "Убраны записи по дублирующимся пользвателям: в группе A 503 пользователя, в группе B - 528 уникальных пользователей."
   ]
  },
  {
   "cell_type": "markdown",
   "metadata": {},
   "source": [
    "## Приоритизация гипотез"
   ]
  },
  {
   "cell_type": "markdown",
   "metadata": {},
   "source": [
    "### Приоритизация гипотез с помщью фреймворка ICE"
   ]
  },
  {
   "cell_type": "markdown",
   "metadata": {},
   "source": [
    "Применим фреймворк ICE для приоритизации гипотез. Отсортируем их по убыванию приоритета."
   ]
  },
  {
   "cell_type": "code",
   "execution_count": 40,
   "metadata": {},
   "outputs": [
    {
     "data": {
      "text/html": [
       "<div>\n",
       "<style scoped>\n",
       "    .dataframe tbody tr th:only-of-type {\n",
       "        vertical-align: middle;\n",
       "    }\n",
       "\n",
       "    .dataframe tbody tr th {\n",
       "        vertical-align: top;\n",
       "    }\n",
       "\n",
       "    .dataframe thead th {\n",
       "        text-align: right;\n",
       "    }\n",
       "</style>\n",
       "<table border=\"1\" class=\"dataframe\">\n",
       "  <thead>\n",
       "    <tr style=\"text-align: right;\">\n",
       "      <th></th>\n",
       "      <th>Hypothesis</th>\n",
       "      <th>ICE</th>\n",
       "    </tr>\n",
       "  </thead>\n",
       "  <tbody>\n",
       "    <tr>\n",
       "      <th>8</th>\n",
       "      <td>Запустить акцию, дающую скидку на товар в день...</td>\n",
       "      <td>16.2</td>\n",
       "    </tr>\n",
       "    <tr>\n",
       "      <th>0</th>\n",
       "      <td>Добавить два новых канала привлечения трафика,...</td>\n",
       "      <td>13.3</td>\n",
       "    </tr>\n",
       "    <tr>\n",
       "      <th>7</th>\n",
       "      <td>Добавить форму подписки на все основные страни...</td>\n",
       "      <td>11.2</td>\n",
       "    </tr>\n",
       "    <tr>\n",
       "      <th>6</th>\n",
       "      <td>Показать на главной странице баннеры с актуаль...</td>\n",
       "      <td>8.0</td>\n",
       "    </tr>\n",
       "    <tr>\n",
       "      <th>2</th>\n",
       "      <td>Добавить блоки рекомендаций товаров на сайт ин...</td>\n",
       "      <td>7.0</td>\n",
       "    </tr>\n",
       "    <tr>\n",
       "      <th>1</th>\n",
       "      <td>Запустить собственную службу доставки, что сок...</td>\n",
       "      <td>2.0</td>\n",
       "    </tr>\n",
       "    <tr>\n",
       "      <th>5</th>\n",
       "      <td>Добавить страницу отзывов клиентов о магазине,...</td>\n",
       "      <td>1.3</td>\n",
       "    </tr>\n",
       "    <tr>\n",
       "      <th>3</th>\n",
       "      <td>Изменить структура категорий, что увеличит кон...</td>\n",
       "      <td>1.1</td>\n",
       "    </tr>\n",
       "    <tr>\n",
       "      <th>4</th>\n",
       "      <td>Изменить цвет фона главной страницы, чтобы уве...</td>\n",
       "      <td>1.0</td>\n",
       "    </tr>\n",
       "  </tbody>\n",
       "</table>\n",
       "</div>"
      ],
      "text/plain": [
       "                                          Hypothesis   ICE\n",
       "8  Запустить акцию, дающую скидку на товар в день...  16.2\n",
       "0  Добавить два новых канала привлечения трафика,...  13.3\n",
       "7  Добавить форму подписки на все основные страни...  11.2\n",
       "6  Показать на главной странице баннеры с актуаль...   8.0\n",
       "2  Добавить блоки рекомендаций товаров на сайт ин...   7.0\n",
       "1  Запустить собственную службу доставки, что сок...   2.0\n",
       "5  Добавить страницу отзывов клиентов о магазине,...   1.3\n",
       "3  Изменить структура категорий, что увеличит кон...   1.1\n",
       "4  Изменить цвет фона главной страницы, чтобы уве...   1.0"
      ]
     },
     "execution_count": 40,
     "metadata": {},
     "output_type": "execute_result"
    }
   ],
   "source": [
    "#pd.options.display.max_colwidth = 110\n",
    "\n",
    "hypothesis['ICE'] = (\n",
    "    hypothesis['Impact'] * hypothesis['Confidence']/hypothesis['Efforts']\n",
    ").round(1)\n",
    "hypothesis[['Hypothesis','ICE']].sort_values(by='ICE', ascending=False)"
   ]
  },
  {
   "cell_type": "markdown",
   "metadata": {},
   "source": [
    "Первые 3 места при приоритизации с помощью ICE занимают следующие гипотезы в порядке убывания:\n",
    "1. \"день рождения\" - запустить акцию, дающую скидку на товар в день рождения\n",
    "2. \"два новых канала\" - добавить два новых канала привлечения трафика, что позволит привлекать на 30% больше пользователей\n",
    "3. \"база клиентов\" - добавить форму подписки на все основные страницы, чтобы собрать базу клиентов для email-рассылок"
   ]
  },
  {
   "cell_type": "markdown",
   "metadata": {},
   "source": [
    "### Приоритизация гипотез с помщью фреймворка RICE"
   ]
  },
  {
   "cell_type": "markdown",
   "metadata": {},
   "source": [
    "Применим фреймворк RICE для приоритизации гипотез. Отсортируем их по убыванию приоритета."
   ]
  },
  {
   "cell_type": "code",
   "execution_count": 41,
   "metadata": {},
   "outputs": [
    {
     "data": {
      "text/html": [
       "<div>\n",
       "<style scoped>\n",
       "    .dataframe tbody tr th:only-of-type {\n",
       "        vertical-align: middle;\n",
       "    }\n",
       "\n",
       "    .dataframe tbody tr th {\n",
       "        vertical-align: top;\n",
       "    }\n",
       "\n",
       "    .dataframe thead th {\n",
       "        text-align: right;\n",
       "    }\n",
       "</style>\n",
       "<table border=\"1\" class=\"dataframe\">\n",
       "  <thead>\n",
       "    <tr style=\"text-align: right;\">\n",
       "      <th></th>\n",
       "      <th>Hypothesis</th>\n",
       "      <th>RICE</th>\n",
       "    </tr>\n",
       "  </thead>\n",
       "  <tbody>\n",
       "    <tr>\n",
       "      <th>7</th>\n",
       "      <td>Добавить форму подписки на все основные страни...</td>\n",
       "      <td>112.0</td>\n",
       "    </tr>\n",
       "    <tr>\n",
       "      <th>2</th>\n",
       "      <td>Добавить блоки рекомендаций товаров на сайт ин...</td>\n",
       "      <td>56.0</td>\n",
       "    </tr>\n",
       "    <tr>\n",
       "      <th>0</th>\n",
       "      <td>Добавить два новых канала привлечения трафика,...</td>\n",
       "      <td>40.0</td>\n",
       "    </tr>\n",
       "    <tr>\n",
       "      <th>6</th>\n",
       "      <td>Показать на главной странице баннеры с актуаль...</td>\n",
       "      <td>40.0</td>\n",
       "    </tr>\n",
       "    <tr>\n",
       "      <th>8</th>\n",
       "      <td>Запустить акцию, дающую скидку на товар в день...</td>\n",
       "      <td>16.2</td>\n",
       "    </tr>\n",
       "    <tr>\n",
       "      <th>3</th>\n",
       "      <td>Изменить структура категорий, что увеличит кон...</td>\n",
       "      <td>9.0</td>\n",
       "    </tr>\n",
       "    <tr>\n",
       "      <th>1</th>\n",
       "      <td>Запустить собственную службу доставки, что сок...</td>\n",
       "      <td>4.0</td>\n",
       "    </tr>\n",
       "    <tr>\n",
       "      <th>5</th>\n",
       "      <td>Добавить страницу отзывов клиентов о магазине,...</td>\n",
       "      <td>4.0</td>\n",
       "    </tr>\n",
       "    <tr>\n",
       "      <th>4</th>\n",
       "      <td>Изменить цвет фона главной страницы, чтобы уве...</td>\n",
       "      <td>3.0</td>\n",
       "    </tr>\n",
       "  </tbody>\n",
       "</table>\n",
       "</div>"
      ],
      "text/plain": [
       "                                          Hypothesis   RICE\n",
       "7  Добавить форму подписки на все основные страни...  112.0\n",
       "2  Добавить блоки рекомендаций товаров на сайт ин...   56.0\n",
       "0  Добавить два новых канала привлечения трафика,...   40.0\n",
       "6  Показать на главной странице баннеры с актуаль...   40.0\n",
       "8  Запустить акцию, дающую скидку на товар в день...   16.2\n",
       "3  Изменить структура категорий, что увеличит кон...    9.0\n",
       "1  Запустить собственную службу доставки, что сок...    4.0\n",
       "5  Добавить страницу отзывов клиентов о магазине,...    4.0\n",
       "4  Изменить цвет фона главной страницы, чтобы уве...    3.0"
      ]
     },
     "execution_count": 41,
     "metadata": {},
     "output_type": "execute_result"
    }
   ],
   "source": [
    "hypothesis['RICE'] = (\n",
    "    hypothesis['Reach'] * hypothesis['Impact'] * hypothesis['Confidence']/hypothesis['Efforts']\n",
    ")\n",
    "hypothesis[['Hypothesis','RICE']].sort_values(by='RICE', ascending=False)"
   ]
  },
  {
   "cell_type": "code",
   "execution_count": 42,
   "metadata": {},
   "outputs": [
    {
     "data": {
      "text/html": [
       "<style  type=\"text/css\" >\n",
       "#T_a9aa2_row7_col2,#T_a9aa2_row8_col1{\n",
       "            background-color:  yellow;\n",
       "        }</style><table id=\"T_a9aa2_\" ><thead>    <tr>        <th class=\"blank level0\" ></th>        <th class=\"col_heading level0 col0\" >Hypothesis</th>        <th class=\"col_heading level0 col1\" >ICE</th>        <th class=\"col_heading level0 col2\" >RICE</th>    </tr></thead><tbody>\n",
       "                <tr>\n",
       "                        <th id=\"T_a9aa2_level0_row0\" class=\"row_heading level0 row0\" >0</th>\n",
       "                        <td id=\"T_a9aa2_row0_col0\" class=\"data row0 col0\" >Добавить два новых канала привлечения трафика, что позволит привлекать на 30% больше пользователей</td>\n",
       "                        <td id=\"T_a9aa2_row0_col1\" class=\"data row0 col1\" >13.300000</td>\n",
       "                        <td id=\"T_a9aa2_row0_col2\" class=\"data row0 col2\" >40.000000</td>\n",
       "            </tr>\n",
       "            <tr>\n",
       "                        <th id=\"T_a9aa2_level0_row1\" class=\"row_heading level0 row1\" >1</th>\n",
       "                        <td id=\"T_a9aa2_row1_col0\" class=\"data row1 col0\" >Запустить собственную службу доставки, что сократит срок доставки заказов</td>\n",
       "                        <td id=\"T_a9aa2_row1_col1\" class=\"data row1 col1\" >2.000000</td>\n",
       "                        <td id=\"T_a9aa2_row1_col2\" class=\"data row1 col2\" >4.000000</td>\n",
       "            </tr>\n",
       "            <tr>\n",
       "                        <th id=\"T_a9aa2_level0_row2\" class=\"row_heading level0 row2\" >2</th>\n",
       "                        <td id=\"T_a9aa2_row2_col0\" class=\"data row2 col0\" >Добавить блоки рекомендаций товаров на сайт интернет магазина, чтобы повысить конверсию и средний чек заказа</td>\n",
       "                        <td id=\"T_a9aa2_row2_col1\" class=\"data row2 col1\" >7.000000</td>\n",
       "                        <td id=\"T_a9aa2_row2_col2\" class=\"data row2 col2\" >56.000000</td>\n",
       "            </tr>\n",
       "            <tr>\n",
       "                        <th id=\"T_a9aa2_level0_row3\" class=\"row_heading level0 row3\" >3</th>\n",
       "                        <td id=\"T_a9aa2_row3_col0\" class=\"data row3 col0\" >Изменить структура категорий, что увеличит конверсию, т.к. пользователи быстрее найдут нужный товар</td>\n",
       "                        <td id=\"T_a9aa2_row3_col1\" class=\"data row3 col1\" >1.100000</td>\n",
       "                        <td id=\"T_a9aa2_row3_col2\" class=\"data row3 col2\" >9.000000</td>\n",
       "            </tr>\n",
       "            <tr>\n",
       "                        <th id=\"T_a9aa2_level0_row4\" class=\"row_heading level0 row4\" >4</th>\n",
       "                        <td id=\"T_a9aa2_row4_col0\" class=\"data row4 col0\" >Изменить цвет фона главной страницы, чтобы увеличить вовлеченность пользователей</td>\n",
       "                        <td id=\"T_a9aa2_row4_col1\" class=\"data row4 col1\" >1.000000</td>\n",
       "                        <td id=\"T_a9aa2_row4_col2\" class=\"data row4 col2\" >3.000000</td>\n",
       "            </tr>\n",
       "            <tr>\n",
       "                        <th id=\"T_a9aa2_level0_row5\" class=\"row_heading level0 row5\" >5</th>\n",
       "                        <td id=\"T_a9aa2_row5_col0\" class=\"data row5 col0\" >Добавить страницу отзывов клиентов о магазине, что позволит увеличить количество заказов</td>\n",
       "                        <td id=\"T_a9aa2_row5_col1\" class=\"data row5 col1\" >1.300000</td>\n",
       "                        <td id=\"T_a9aa2_row5_col2\" class=\"data row5 col2\" >4.000000</td>\n",
       "            </tr>\n",
       "            <tr>\n",
       "                        <th id=\"T_a9aa2_level0_row6\" class=\"row_heading level0 row6\" >6</th>\n",
       "                        <td id=\"T_a9aa2_row6_col0\" class=\"data row6 col0\" >Показать на главной странице баннеры с актуальными акциями и распродажами, чтобы увеличить конверсию</td>\n",
       "                        <td id=\"T_a9aa2_row6_col1\" class=\"data row6 col1\" >8.000000</td>\n",
       "                        <td id=\"T_a9aa2_row6_col2\" class=\"data row6 col2\" >40.000000</td>\n",
       "            </tr>\n",
       "            <tr>\n",
       "                        <th id=\"T_a9aa2_level0_row7\" class=\"row_heading level0 row7\" >7</th>\n",
       "                        <td id=\"T_a9aa2_row7_col0\" class=\"data row7 col0\" >Добавить форму подписки на все основные страницы, чтобы собрать базу клиентов для email-рассылок</td>\n",
       "                        <td id=\"T_a9aa2_row7_col1\" class=\"data row7 col1\" >11.200000</td>\n",
       "                        <td id=\"T_a9aa2_row7_col2\" class=\"data row7 col2\" >112.000000</td>\n",
       "            </tr>\n",
       "            <tr>\n",
       "                        <th id=\"T_a9aa2_level0_row8\" class=\"row_heading level0 row8\" >8</th>\n",
       "                        <td id=\"T_a9aa2_row8_col0\" class=\"data row8 col0\" >Запустить акцию, дающую скидку на товар в день рождения</td>\n",
       "                        <td id=\"T_a9aa2_row8_col1\" class=\"data row8 col1\" >16.200000</td>\n",
       "                        <td id=\"T_a9aa2_row8_col2\" class=\"data row8 col2\" >16.200000</td>\n",
       "            </tr>\n",
       "    </tbody></table>"
      ],
      "text/plain": [
       "<pandas.io.formats.style.Styler at 0x7f7c347f4610>"
      ]
     },
     "execution_count": 42,
     "metadata": {},
     "output_type": "execute_result"
    }
   ],
   "source": [
    "def highlight_max(s):\n",
    "    is_max = s == s.max()\n",
    "    return ['background-color: yellow' if v else '' for v in is_max]\n",
    "\n",
    "hypothesis[['Hypothesis', 'ICE', 'RICE']].style.apply(highlight_max, subset=['ICE', 'RICE'])"
   ]
  },
  {
   "cell_type": "markdown",
   "metadata": {},
   "source": [
    "Первые 3 места при приоритизации с помощью RICE занимают следующие гипотезы в порядке убывания:\n",
    "1. \"база клиентов\" - добавить форму подписки на все основные страницы, чтобы собрать базу клиентов для email-рассылок \n",
    "2. \"блоки рекомендаций\" - добавить блоки рекомендаций товаров на сайт интернет магазина, чтобы повысить конверсию и средний чек заказа \n",
    "3. \"два новых канала\" - добавить два новых канала привлечения трафика, что позволит привлекать на 30% больше пользователей \n",
    "4. \"актуальные акции\" - показать на главной странице баннеры с актуальными акциями и распродажами, чтобы увеличить конверсию "
   ]
  },
  {
   "cell_type": "markdown",
   "metadata": {},
   "source": [
    "### Сравнение приоритизаций ICE и RICE"
   ]
  },
  {
   "cell_type": "markdown",
   "metadata": {},
   "source": [
    "Укажем, как изменилась приоритизация гипотез при применении RICE вместо ICE. Объясним, почему так произошло."
   ]
  },
  {
   "cell_type": "markdown",
   "metadata": {},
   "source": [
    "* гипотеза \"база клиентов\" была на 3-м месте при приориитизации  ICE, но при приоритизации RICE с большим отрывом вырывается вперед. Так получилось из-за того, что имеенно данная гипотеза имеет высший балл по охвату (10)\n",
    "* \"блоки рекомендаций\" - не было в тройке при приоритизации ICE, там эта гипотеза была на пятом месте; при RICE - на втором месте. Здесь это благодаря опять же охвату (8), а также благодаря достаточно высокой уверенности в гипотезе (7)\n",
    "* \"два новых канала\" встречается в обеих приоритизациях, но в ICE она на втором месте, а в RICE - на третьем (небольшое значение охвата (3) при высоких остальных параметрах, участвующих в ICE)\n",
    "* при приоритизации RICE третье место делят две гиптезы - \"два новых канала\" и \"актуальные акции\""
   ]
  },
  {
   "cell_type": "markdown",
   "metadata": {},
   "source": [
    "## Анализ A/B-теста"
   ]
  },
  {
   "cell_type": "markdown",
   "metadata": {},
   "source": [
    "Мы провели A/B-тест и получили результаты, которые описаны в файлах /datasets/orders.csv и /datasets/visitors.csv.\n",
    "Проанализируем A/B-тест."
   ]
  },
  {
   "cell_type": "markdown",
   "metadata": {},
   "source": [
    "Прежде чем строить графики, соберем кумулятивные данные. "
   ]
  },
  {
   "cell_type": "code",
   "execution_count": 43,
   "metadata": {},
   "outputs": [
    {
     "data": {
      "text/html": [
       "<div>\n",
       "<style scoped>\n",
       "    .dataframe tbody tr th:only-of-type {\n",
       "        vertical-align: middle;\n",
       "    }\n",
       "\n",
       "    .dataframe tbody tr th {\n",
       "        vertical-align: top;\n",
       "    }\n",
       "\n",
       "    .dataframe thead th {\n",
       "        text-align: right;\n",
       "    }\n",
       "</style>\n",
       "<table border=\"1\" class=\"dataframe\">\n",
       "  <thead>\n",
       "    <tr style=\"text-align: right;\">\n",
       "      <th></th>\n",
       "      <th>date</th>\n",
       "      <th>group</th>\n",
       "      <th>orders</th>\n",
       "      <th>buyers</th>\n",
       "      <th>revenue</th>\n",
       "      <th>visitors</th>\n",
       "    </tr>\n",
       "  </thead>\n",
       "  <tbody>\n",
       "    <tr>\n",
       "      <th>0</th>\n",
       "      <td>2019-08-01</td>\n",
       "      <td>A</td>\n",
       "      <td>24</td>\n",
       "      <td>20</td>\n",
       "      <td>148579</td>\n",
       "      <td>719</td>\n",
       "    </tr>\n",
       "    <tr>\n",
       "      <th>1</th>\n",
       "      <td>2019-08-01</td>\n",
       "      <td>B</td>\n",
       "      <td>17</td>\n",
       "      <td>17</td>\n",
       "      <td>59758</td>\n",
       "      <td>713</td>\n",
       "    </tr>\n",
       "    <tr>\n",
       "      <th>2</th>\n",
       "      <td>2019-08-02</td>\n",
       "      <td>A</td>\n",
       "      <td>44</td>\n",
       "      <td>38</td>\n",
       "      <td>242401</td>\n",
       "      <td>1338</td>\n",
       "    </tr>\n",
       "    <tr>\n",
       "      <th>3</th>\n",
       "      <td>2019-08-02</td>\n",
       "      <td>B</td>\n",
       "      <td>40</td>\n",
       "      <td>39</td>\n",
       "      <td>221801</td>\n",
       "      <td>1294</td>\n",
       "    </tr>\n",
       "    <tr>\n",
       "      <th>4</th>\n",
       "      <td>2019-08-03</td>\n",
       "      <td>A</td>\n",
       "      <td>68</td>\n",
       "      <td>62</td>\n",
       "      <td>354874</td>\n",
       "      <td>1845</td>\n",
       "    </tr>\n",
       "  </tbody>\n",
       "</table>\n",
       "</div>"
      ],
      "text/plain": [
       "        date group  orders  buyers  revenue  visitors\n",
       "0 2019-08-01     A      24      20   148579       719\n",
       "1 2019-08-01     B      17      17    59758       713\n",
       "2 2019-08-02     A      44      38   242401      1338\n",
       "3 2019-08-02     B      40      39   221801      1294\n",
       "4 2019-08-03     A      68      62   354874      1845"
      ]
     },
     "execution_count": 43,
     "metadata": {},
     "output_type": "execute_result"
    }
   ],
   "source": [
    "# создаем массив уникальных пар значений дат и групп теста\n",
    "datesGroups = orders[['date','group']].drop_duplicates()\n",
    "\n",
    "# получаем агрегированные кумулятивные по дням данные о заказах \n",
    "ordersAggregated = datesGroups.apply(lambda x: orders[np.logical_and(\n",
    "        orders['date'] <= x['date'],\n",
    "        orders['group'] == x['group']\n",
    "    )].agg({\n",
    "        'date' : 'max', \n",
    "        'group' : 'max', \n",
    "        'transactionId' : pd.Series.nunique, \n",
    "        'visitorId' : pd.Series.nunique, \n",
    "        'revenue' : 'sum'}), axis=1).sort_values(by=['date','group'])\n",
    "\n",
    "# получаем агрегированные кумулятивные по дням данные о посетителях интернет-магазина \n",
    "visitorsAggregated = datesGroups.apply(\n",
    "    lambda x: visitors[\n",
    "        np.logical_and(\n",
    "            visitors['date'] <= x['date'], \n",
    "            visitors['group'] == x['group']\n",
    "        )].agg({\n",
    "        'date' : 'max',\n",
    "        'group' : 'max',\n",
    "        'visitors' : 'sum'}), axis=1).sort_values(by=['date','group'])\n",
    "\n",
    "# объединяем кумулятивные данные в одной таблице и присваиваем ее столбцам понятные названия\n",
    "cumulativeData = ordersAggregated.merge(\n",
    "    visitorsAggregated, \n",
    "    left_on=['date', 'group'], \n",
    "    right_on=['date', 'group']\n",
    ")\n",
    "\n",
    "cumulativeData.columns = [\n",
    "    'date', \n",
    "    'group', \n",
    "    'orders', \n",
    "    'buyers', \n",
    "    'revenue', \n",
    "    'visitors'\n",
    "]\n",
    "\n",
    "cumulativeData.head(5)"
   ]
  },
  {
   "cell_type": "markdown",
   "metadata": {},
   "source": [
    "### График кумулятивной выручки по группам"
   ]
  },
  {
   "cell_type": "markdown",
   "metadata": {},
   "source": [
    "Построим график кумулятивной выручки по группам. "
   ]
  },
  {
   "cell_type": "code",
   "execution_count": 44,
   "metadata": {},
   "outputs": [],
   "source": [
    "# датафрейм с кумулятивным количеством заказов и кумулятивной выручкой по дням в группе А\n",
    "cumulativeRevenueA = cumulativeData[cumulativeData['group']=='A'][['date','revenue', 'orders']]\n",
    "\n",
    "# датафрейм с кумулятивным количеством заказов и кумулятивной выручкой по дням в группе B\n",
    "cumulativeRevenueB = cumulativeData[cumulativeData['group']=='B'][['date','revenue', 'orders']]"
   ]
  },
  {
   "cell_type": "code",
   "execution_count": 72,
   "metadata": {},
   "outputs": [
    {
     "data": {
      "image/png": "[encoded data removed]"
     },
     "metadata": {},
     "output_type": "display_data"
    }
   ],
   "source": [
    "fig = go.Figure()\n",
    "fig.add_trace(go.Scatter(x=cumulativeRevenueA['date'], y=cumulativeRevenueA['revenue'], name='A'))\n",
    "fig.add_trace(go.Scatter(x=cumulativeRevenueB['date'], y=cumulativeRevenueB['revenue'], name='B'))\n",
    "fig.update_layout(title=\"График кумулятивной выручки по группам\",\n",
    "                  xaxis_title=\"дата\",\n",
    "                  yaxis_title=\"выручка\")\n",
    "fig.show(renderer=\"png\")"
   ]
  },
  {
   "cell_type": "markdown",
   "metadata": {},
   "source": [
    "Выручка увеличивается в течение всего теста."
   ]
  },
  {
   "cell_type": "markdown",
   "metadata": {},
   "source": [
    "#### Выводы и предположения"
   ]
  },
  {
   "cell_type": "markdown",
   "metadata": {},
   "source": [
    "График группы A растет равномерно, тогда как график группы B в одной точке начинает резко расти - либо это всплески числа заказов, либо появление очень дорогих заказов в выборке."
   ]
  },
  {
   "cell_type": "markdown",
   "metadata": {},
   "source": [
    "### График кумулятивного среднего чека по группам"
   ]
  },
  {
   "cell_type": "markdown",
   "metadata": {},
   "source": [
    "Построим график кумулятивного среднего чека по группам."
   ]
  },
  {
   "cell_type": "code",
   "execution_count": 73,
   "metadata": {},
   "outputs": [
    {
     "data": {
      "image/png": "[encoded data removed]"
     },
     "metadata": {},
     "output_type": "display_data"
    }
   ],
   "source": [
    "fig = go.Figure()\n",
    "fig.add_trace(go.Scatter(x=cumulativeRevenueA['date'], y=cumulativeRevenueA['revenue']/cumulativeRevenueA['orders'], name='A'))\n",
    "fig.add_trace(go.Scatter(x=cumulativeRevenueB['date'], y=cumulativeRevenueB['revenue']/cumulativeRevenueB['orders'], name='B'))\n",
    "fig.update_layout(title=\"График кумулятивного среднего чека по группам\",\n",
    "                  xaxis_title=\"дата\",\n",
    "                  yaxis_title=\"средний чек\")\n",
    "fig.show(renderer=\"png\")"
   ]
  },
  {
   "cell_type": "markdown",
   "metadata": {},
   "source": [
    "В группе B снова резкий скачок с 18 на 19 августа. И с этого момента средний чек разительно отличается в группах. "
   ]
  },
  {
   "cell_type": "markdown",
   "metadata": {},
   "source": [
    "#### Выводы и предположения"
   ]
  },
  {
   "cell_type": "markdown",
   "metadata": {},
   "source": [
    "Похоже, что в группу B с 18 августа (воскресенье) пришли очень активные пользователи, которые сделали много заказов, что повлияло на средний чек."
   ]
  },
  {
   "cell_type": "markdown",
   "metadata": {},
   "source": [
    "### График относительного изменения кумулятивного среднего чека группы B к группе A"
   ]
  },
  {
   "cell_type": "markdown",
   "metadata": {},
   "source": [
    "Построим график относительного изменения кумулятивного среднего чека группы B к группе A."
   ]
  },
  {
   "cell_type": "code",
   "execution_count": 48,
   "metadata": {},
   "outputs": [],
   "source": [
    "# собираем данные в одном датафрейме\n",
    "mergedCumulativeRevenue = cumulativeRevenueA.merge(\n",
    "    cumulativeRevenueB, \n",
    "    left_on='date', \n",
    "    right_on='date', \n",
    "    how='left', \n",
    "    suffixes=['A', 'B']\n",
    ")"
   ]
  },
  {
   "cell_type": "code",
   "execution_count": 74,
   "metadata": {},
   "outputs": [
    {
     "data": {
      "image/png": "[encoded data removed]"
     },
     "metadata": {},
     "output_type": "display_data"
    }
   ],
   "source": [
    "# cтроим отношение средних чеков\n",
    "fig = go.Figure()\n",
    "\n",
    "fig.add_trace(go.Scatter(\n",
    "    x=mergedCumulativeRevenue['date'], \n",
    "    y=(mergedCumulativeRevenue['revenueB']/mergedCumulativeRevenue['ordersB'])/(mergedCumulativeRevenue['revenueA']/mergedCumulativeRevenue['ordersA'])-1, \n",
    "    name='A'))\n",
    "\n",
    "fig.update_yaxes(\n",
    "    zeroline=True, \n",
    "    zerolinewidth=4, \n",
    "    zerolinecolor='LightPink')\n",
    "\n",
    "fig.update_layout(\n",
    "    title=\"График относительного изменения кумулятивного среднего чека группы B к группе A\",\n",
    "    xaxis_title=\"дата\",\n",
    "    yaxis_title=\"средний чек\")\n",
    "\n",
    "fig.show(renderer=\"png\")"
   ]
  },
  {
   "cell_type": "markdown",
   "metadata": {},
   "source": [
    "В нескольких точках график скачет, например, с 8 по 19 августа. "
   ]
  },
  {
   "cell_type": "markdown",
   "metadata": {},
   "source": [
    "#### Выводы и предположения"
   ]
  },
  {
   "cell_type": "markdown",
   "metadata": {},
   "source": [
    "Похоже, что нам предстоит обнаружить крупные заказы и выбросы."
   ]
  },
  {
   "cell_type": "markdown",
   "metadata": {},
   "source": [
    "### График кумулятивной конверсии по группам"
   ]
  },
  {
   "cell_type": "markdown",
   "metadata": {},
   "source": [
    "Построим график кумулятивной конверсии по группам."
   ]
  },
  {
   "cell_type": "code",
   "execution_count": 50,
   "metadata": {},
   "outputs": [],
   "source": [
    "# считаем кумулятивную конверсию\n",
    "cumulativeData['conversion'] = cumulativeData['orders']/cumulativeData['visitors']\n",
    "\n",
    "# отделяем данные по группе A\n",
    "cumulativeDataA = cumulativeData[cumulativeData['group']=='A']\n",
    "\n",
    "# отделяем данные по группе B\n",
    "cumulativeDataB = cumulativeData[cumulativeData['group']=='B']"
   ]
  },
  {
   "cell_type": "code",
   "execution_count": 75,
   "metadata": {},
   "outputs": [
    {
     "data": {
      "image/png": "[encoded data removed]"
     },
     "metadata": {},
     "output_type": "display_data"
    }
   ],
   "source": [
    "# строим графики\n",
    "fig = go.Figure()\n",
    "fig.add_trace(go.Scatter(x=cumulativeDataA['date'], y=cumulativeDataA['conversion'], name='A'))\n",
    "fig.add_trace(go.Scatter(x=cumulativeDataB['date'], y=cumulativeDataB['conversion'], name='B'))\n",
    "fig.update_layout(title=\"График кумулятивной конверсии по группам\",\n",
    "                  xaxis_title=\"дата\",\n",
    "                  yaxis_title=\"конверсия\")\n",
    "\n",
    "fig.show(renderer=\"png\")"
   ]
  },
  {
   "cell_type": "markdown",
   "metadata": {},
   "source": [
    "Вначале группы колебались, но с 9 августа конверсии начали выравниваться, а после 22 августа конверсия группы A стала чуть вышее конверсии группы B."
   ]
  },
  {
   "cell_type": "markdown",
   "metadata": {},
   "source": [
    "#### Выводы и предположения"
   ]
  },
  {
   "cell_type": "markdown",
   "metadata": {},
   "source": [
    "Конверсии обеих групп начали выравниваться, начиная с 10 августа."
   ]
  },
  {
   "cell_type": "markdown",
   "metadata": {},
   "source": [
    "### График относительного изменения кумулятивной конверсии группы B к группе A"
   ]
  },
  {
   "cell_type": "markdown",
   "metadata": {},
   "source": [
    "Построим график относительного изменения кумулятивной конверсии группы B к группе A."
   ]
  },
  {
   "cell_type": "code",
   "execution_count": 77,
   "metadata": {},
   "outputs": [
    {
     "data": {
      "image/png": "[encoded data removed]",
      "text/plain": [
       "<Figure size 936x288 with 1 Axes>"
      ]
     },
     "metadata": {
      "needs_background": "light"
     },
     "output_type": "display_data"
    }
   ],
   "source": [
    "mergedCumulativeConversions = cumulativeDataA[['date','conversion']].merge(cumulativeDataB[['date','conversion']], left_on='date', right_on='date', how='left', suffixes=['A', 'B'])\n",
    "\n",
    "plt.figure(figsize=(13, 4))\n",
    "\n",
    "plt.plot(\n",
    "    mergedCumulativeConversions['date'], \n",
    "    mergedCumulativeConversions['conversionB']/mergedCumulativeConversions['conversionA']-1)\n",
    "\n",
    "plt.suptitle('Относительный прирост конверсии группы B относительно группы A')\n",
    "plt.ylabel('конверсия')\n",
    "plt.xlabel('дата')\n",
    "\n",
    "plt.axhline(y=0, color='black', linestyle='--')\n",
    "plt.axhline(y=0.05, color='grey', linestyle='--')\n",
    "plt.axhline(y=-0.05, color='grey', linestyle='--')\n",
    "\n",
    "plt.show()"
   ]
  },
  {
   "cell_type": "markdown",
   "metadata": {},
   "source": [
    "По графику видим, что группа B лидирует по конверсии, выравниваясь дальше с приростом около 5%."
   ]
  },
  {
   "cell_type": "markdown",
   "metadata": {},
   "source": [
    "#### Выводы и предположения"
   ]
  },
  {
   "cell_type": "markdown",
   "metadata": {},
   "source": [
    "Наблюдаем прирост конверсии группы B в 5% относительно группы A с 10 августа, но затем в районе 22 августа конверсия группы B пошла на спад относительно группы B."
   ]
  },
  {
   "cell_type": "markdown",
   "metadata": {},
   "source": [
    "### График количества заказов по пользователям\n"
   ]
  },
  {
   "cell_type": "markdown",
   "metadata": {},
   "source": [
    "Найдем сначала число заказов по пользователям:"
   ]
  },
  {
   "cell_type": "code",
   "execution_count": 56,
   "metadata": {},
   "outputs": [
    {
     "name": "stdout",
     "output_type": "stream",
     "text": [
      "       visitorId  orders\n",
      "1023  4256040402       7\n",
      "487   2038680547       5\n",
      "591   2458001652       5\n",
      "44     199603092       4\n",
      "569   2378935119       4\n",
      "55     237748145       4\n",
      "504   2108163459       3\n",
      "667   2742574263       3\n",
      "959   3967698036       3\n",
      "726   2988190573       3\n"
     ]
    }
   ],
   "source": [
    "ordersByUsers = (\n",
    "    orders.drop(['group', 'revenue', 'date'], axis=1) \n",
    "    .groupby('visitorId', as_index=False) \n",
    "    .agg({'transactionId' : pd.Series.nunique})\n",
    ")\n",
    "ordersByUsers.columns = ['visitorId','orders']\n",
    "\n",
    "print(ordersByUsers.sort_values(by='orders', ascending=False).head(10))"
   ]
  },
  {
   "cell_type": "markdown",
   "metadata": {},
   "source": [
    "Построим точечный график количества заказов по пользователям. "
   ]
  },
  {
   "cell_type": "code",
   "execution_count": 78,
   "metadata": {},
   "outputs": [
    {
     "data": {
      "image/png": "[encoded data removed]"
     },
     "metadata": {},
     "output_type": "display_data"
    }
   ],
   "source": [
    "x_values = pd.Series(range(0, len(ordersByUsers)))\n",
    "\n",
    "fig = go.Figure()\n",
    "fig.add_trace(go.Scatter(\n",
    "    x=x_values,\n",
    "    y=ordersByUsers['orders'],\n",
    "    mode='markers'))\n",
    "\n",
    "fig.update_layout(title=\"График количества заказов по пользователям\",\n",
    "                  xaxis_title=\"наблюдения\",\n",
    "                  yaxis_title=\"кол-во заказов\")\n",
    "fig.show(renderer=\"png\")"
   ]
  },
  {
   "cell_type": "markdown",
   "metadata": {},
   "source": [
    "Больше всего пользователей, заказавших один раз. Заказавших больше двух раз уже намного меньше. А вот больше пяти - всего 4 пользвателя."
   ]
  },
  {
   "cell_type": "markdown",
   "metadata": {},
   "source": [
    "#### Выводы и предположения"
   ]
  },
  {
   "cell_type": "markdown",
   "metadata": {},
   "source": [
    "Пользователей, которые заказали больше трех раз, достаточно мало - это могут быть выбросы."
   ]
  },
  {
   "cell_type": "markdown",
   "metadata": {},
   "source": [
    "### 95-й и 99-й перцентили количества заказов на пользователя"
   ]
  },
  {
   "cell_type": "markdown",
   "metadata": {},
   "source": [
    "Посчитаем 95-й и 99-й перцентили количества заказов на пользователя. "
   ]
  },
  {
   "cell_type": "code",
   "execution_count": 58,
   "metadata": {},
   "outputs": [
    {
     "name": "stdout",
     "output_type": "stream",
     "text": [
      "[1. 3.]\n"
     ]
    }
   ],
   "source": [
    "print(np.percentile(ordersByUsers['orders'], [95, 99]))"
   ]
  },
  {
   "cell_type": "markdown",
   "metadata": {},
   "source": [
    "Не более 5% пользователей сделали больше одного заказа. И не более 1% - больше 3-х заказов."
   ]
  },
  {
   "cell_type": "markdown",
   "metadata": {},
   "source": [
    "#### Выводы и предположения"
   ]
  },
  {
   "cell_type": "markdown",
   "metadata": {},
   "source": [
    "Выберем границу для определения аномальных пользователей. Ориентируясь на график и по вычисленным перцентилям выберем такую границу: больше трех заказов."
   ]
  },
  {
   "cell_type": "markdown",
   "metadata": {},
   "source": [
    "### График стоимостей заказов"
   ]
  },
  {
   "cell_type": "markdown",
   "metadata": {},
   "source": [
    "Построим точечный график стоимостей заказов. "
   ]
  },
  {
   "cell_type": "code",
   "execution_count": 79,
   "metadata": {},
   "outputs": [
    {
     "data": {
      "image/png": "[encoded data removed]"
     },
     "metadata": {},
     "output_type": "display_data"
    }
   ],
   "source": [
    "x_values = pd.Series(range(0, len(orders['revenue'])))\n",
    "\n",
    "fig = go.Figure()\n",
    "fig.add_trace(go.Scatter(\n",
    "    x=x_values,\n",
    "    y=orders['revenue'],\n",
    "    mode='markers'))\n",
    "\n",
    "fig.update_layout(title=\"График стоимостей заказов\",\n",
    "                  xaxis_title=\"наблюдения\",\n",
    "                  yaxis_title=\"стоимость заказов\")\n",
    "fig.show(renderer=\"png\")"
   ]
  },
  {
   "cell_type": "markdown",
   "metadata": {},
   "source": [
    "Видим один яркий аномальный выброс."
   ]
  },
  {
   "cell_type": "markdown",
   "metadata": {},
   "source": [
    "#### Выводы и предположения"
   ]
  },
  {
   "cell_type": "markdown",
   "metadata": {},
   "source": [
    "В основном все заказы не выше 100 тыс. Есть аномальный заказ за 1.3 млн, и еще один выбивающийся не так явно - 202 тыс."
   ]
  },
  {
   "cell_type": "markdown",
   "metadata": {},
   "source": [
    "### 95-й и 99-й перцентили стоимости заказов"
   ]
  },
  {
   "cell_type": "markdown",
   "metadata": {},
   "source": [
    "Посчитаем 95-й и 99-й перцентили стоимости заказов. "
   ]
  },
  {
   "cell_type": "code",
   "execution_count": 60,
   "metadata": {},
   "outputs": [
    {
     "name": "stdout",
     "output_type": "stream",
     "text": [
      "[27470.   58047.36]\n"
     ]
    }
   ],
   "source": [
    "print(np.percentile(orders['revenue'],[95,99]))"
   ]
  },
  {
   "cell_type": "markdown",
   "metadata": {},
   "source": [
    "Не более чем у 5% заказов чек дороже 27470 руб., а также не больше 1% заказов дороже 58047 руб."
   ]
  },
  {
   "cell_type": "markdown",
   "metadata": {},
   "source": [
    "#### Выводы и предположения"
   ]
  },
  {
   "cell_type": "markdown",
   "metadata": {},
   "source": [
    "Выберем границу для определения аномальных заказов: исходя из подсчетов и графика выберем границу в 58 тыс."
   ]
  },
  {
   "cell_type": "markdown",
   "metadata": {},
   "source": [
    "### Статистическая значимость различий в конверсии между группами по «сырым» данным"
   ]
  },
  {
   "cell_type": "markdown",
   "metadata": {},
   "source": [
    "Посчитаем статистическую значимость различий в конверсии между группами по «сырым» данным."
   ]
  },
  {
   "cell_type": "markdown",
   "metadata": {},
   "source": [
    "* Сформулируем нулевую гипотезу: между конверсиями групп A и B нет разницы.\n",
    "* Тогда обратная гипотеза будет следующей: в конверсиях групп есть статистически значимые различия."
   ]
  },
  {
   "cell_type": "markdown",
   "metadata": {},
   "source": [
    "Создадим переменные ordersByUsersA и ordersByUsersB, где для пользователей, совершивших хотя бы 1 заказ, будет указано число заказов. Для этого подготовим дданные - сначла по пользователям:"
   ]
  },
  {
   "cell_type": "code",
   "execution_count": 61,
   "metadata": {},
   "outputs": [],
   "source": [
    "visitorsADaily = visitors[visitors['group'] == 'A'][['date', 'visitors']]\n",
    "visitorsADaily.columns = ['date', 'visitorsPerDateA']\n",
    "\n",
    "visitorsACummulative = visitorsADaily.apply(\n",
    "    lambda x: visitorsADaily[visitorsADaily['date'] <= x['date']].agg(\n",
    "        {'date': 'max', 'visitorsPerDateA': 'sum'}\n",
    "    ),\n",
    "    axis=1,\n",
    ")\n",
    "visitorsACummulative.columns = ['date', 'visitorsCummulativeA']\n",
    "\n",
    "visitorsBDaily = visitors[visitors['group'] == 'B'][['date', 'visitors']]\n",
    "visitorsBDaily.columns = ['date', 'visitorsPerDateB']\n",
    "\n",
    "visitorsBCummulative = visitorsBDaily.apply(\n",
    "    lambda x: visitorsBDaily[visitorsBDaily['date'] <= x['date']].agg(\n",
    "        {'date': 'max', 'visitorsPerDateB': 'sum'}\n",
    "    ),\n",
    "    axis=1,\n",
    ")\n",
    "visitorsBCummulative.columns = ['date', 'visitorsCummulativeB']"
   ]
  },
  {
   "cell_type": "markdown",
   "metadata": {},
   "source": [
    "Затем по заказам:"
   ]
  },
  {
   "cell_type": "code",
   "execution_count": 62,
   "metadata": {},
   "outputs": [],
   "source": [
    "ordersADaily = (\n",
    "    orders[orders['group'] == 'A'][['date', 'transactionId', 'visitorId', 'revenue']]\n",
    "    .groupby('date', as_index=False)\n",
    "    .agg({'transactionId': pd.Series.nunique, 'revenue': 'sum'})\n",
    ")\n",
    "ordersADaily.columns = ['date', 'ordersPerDateA', 'revenuePerDateA']\n",
    "\n",
    "ordersACummulative = ordersADaily.apply(\n",
    "    lambda x: ordersADaily[ordersADaily['date'] <= x['date']].agg(\n",
    "        {'date': 'max', 'ordersPerDateA': 'sum', 'revenuePerDateA': 'sum'}\n",
    "    ),\n",
    "    axis=1,\n",
    ").sort_values(by=['date'])\n",
    "\n",
    "ordersACummulative.columns = [\n",
    "    'date',\n",
    "    'ordersCummulativeA',\n",
    "    'revenueCummulativeA',\n",
    "]\n",
    "\n",
    "ordersBDaily = (\n",
    "    orders[orders['group'] == 'B'][['date', 'transactionId', 'visitorId', 'revenue']]\n",
    "    .groupby('date', as_index=False)\n",
    "    .agg({'transactionId': pd.Series.nunique, 'revenue': 'sum'})\n",
    ")\n",
    "ordersBDaily.columns = ['date', 'ordersPerDateB', 'revenuePerDateB']\n",
    "\n",
    "ordersBCummulative = ordersBDaily.apply(\n",
    "    lambda x: ordersBDaily[ordersBDaily['date'] <= x['date']].agg(\n",
    "        {'date': 'max', 'ordersPerDateB': 'sum', 'revenuePerDateB': 'sum'}\n",
    "    ),\n",
    "    axis=1,\n",
    ").sort_values(by=['date'])\n",
    "\n",
    "ordersBCummulative.columns = [\n",
    "    'date',\n",
    "    'ordersCummulativeB',\n",
    "    'revenueCummulativeB',\n",
    "]\n",
    "\n",
    "ordersADaily = (\n",
    "    orders[orders['group'] == 'A'][['date', 'transactionId', 'visitorId', 'revenue']]\n",
    "    .groupby('date', as_index=False)\n",
    "    .agg({'transactionId': pd.Series.nunique, 'revenue': 'sum'})\n",
    ")\n",
    "ordersADaily.columns = ['date', 'ordersPerDateA', 'revenuePerDateA']\n",
    "\n",
    "ordersACummulative = ordersADaily.apply(\n",
    "    lambda x: ordersADaily[ordersADaily['date'] <= x['date']].agg(\n",
    "        {'date': 'max', 'ordersPerDateA': 'sum', 'revenuePerDateA': 'sum'}\n",
    "    ),\n",
    "    axis=1,\n",
    ").sort_values(by=['date'])\n",
    "\n",
    "ordersACummulative.columns = [\n",
    "    'date',\n",
    "    'ordersCummulativeA',\n",
    "    'revenueCummulativeA',\n",
    "]\n",
    "\n",
    "ordersBDaily = (\n",
    "    orders[orders['group'] == 'B'][['date', 'transactionId', 'visitorId', 'revenue']]\n",
    "    .groupby('date', as_index=False)\n",
    "    .agg({'transactionId': pd.Series.nunique, 'revenue': 'sum'})\n",
    ")\n",
    "ordersBDaily.columns = ['date', 'ordersPerDateB', 'revenuePerDateB']\n",
    "\n",
    "ordersBCummulative = ordersBDaily.apply(\n",
    "    lambda x: ordersBDaily[ordersBDaily['date'] <= x['date']].agg(\n",
    "        {'date': 'max', 'ordersPerDateB': 'sum', 'revenuePerDateB': 'sum'}\n",
    "    ),\n",
    "    axis=1,\n",
    ").sort_values(by=['date'])\n",
    "\n",
    "ordersBCummulative.columns = [\n",
    "    'date',\n",
    "    'ordersCummulativeB',\n",
    "    'revenueCummulativeB',\n",
    "]"
   ]
  },
  {
   "cell_type": "markdown",
   "metadata": {},
   "source": [
    "Соберем общую таблицу data со всеми посчитанными данными:"
   ]
  },
  {
   "cell_type": "code",
   "execution_count": 63,
   "metadata": {},
   "outputs": [],
   "source": [
    "data = (\n",
    "    ordersADaily.merge(\n",
    "        ordersBDaily, left_on='date', right_on='date', how='left'\n",
    "    )\n",
    "    .merge(ordersACummulative, left_on='date', right_on='date', how='left')\n",
    "    .merge(ordersBCummulative, left_on='date', right_on='date', how='left')\n",
    "    .merge(visitorsADaily, left_on='date', right_on='date', how='left')\n",
    "    .merge(visitorsBDaily, left_on='date', right_on='date', how='left')\n",
    "    .merge(visitorsACummulative, left_on='date', right_on='date', how='left')\n",
    "    .merge(visitorsBCummulative, left_on='date', right_on='date', how='left')\n",
    ")\n",
    "\n",
    "ordersByUsersA = (\n",
    "    orders[orders['group'] == 'A']\n",
    "    .groupby('visitorId', as_index=False)\n",
    "    .agg({'transactionId': pd.Series.nunique})\n",
    ")\n",
    "ordersByUsersA.columns = ['userId', 'orders']\n",
    "\n",
    "ordersByUsersB = (\n",
    "    orders[orders['group'] == 'B']\n",
    "    .groupby('visitorId', as_index=False)\n",
    "    .agg({'transactionId': pd.Series.nunique})\n",
    ")\n",
    "ordersByUsersB.columns = ['userId', 'orders']"
   ]
  },
  {
   "cell_type": "markdown",
   "metadata": {},
   "source": [
    "Объявим переменные sampleA и sampleB, в которых пользователям с заказами будет соответствовать число заказов пользователя. А пользователям без заказов — нули. Объявим переменные sampleA и sampleB, в которых пользователям с заказами будет соответствовать число заказов пользователя. А пользователям без заказов — нули. "
   ]
  },
  {
   "cell_type": "code",
   "execution_count": 64,
   "metadata": {},
   "outputs": [],
   "source": [
    "sampleA = pd.concat(\n",
    "    [ordersByUsersA['orders'],\n",
    "     pd.Series(0, index=np.arange(data['visitorsPerDateA'].sum() \n",
    "                                  - len(ordersByUsersA['orders'])), name='orders')],axis=0)\n",
    "sampleB = pd.concat(\n",
    "    [ordersByUsersB['orders'],\n",
    "     pd.Series(0, index=np.arange(data['visitorsPerDateB'].sum() \n",
    "                                  - len(ordersByUsersB['orders'])), name='orders')],axis=0)"
   ]
  },
  {
   "cell_type": "markdown",
   "metadata": {},
   "source": [
    "Посчитаем статистическую значимость различия конверсии по результатам двух недель теста, используя тест Манна-Уитни."
   ]
  },
  {
   "cell_type": "code",
   "execution_count": 65,
   "metadata": {},
   "outputs": [
    {
     "name": "stdout",
     "output_type": "stream",
     "text": [
      "p-value для сравнения конверсии между группами: 0.53386\n",
      "относительное различие в конверсии между группами: -0.026\n"
     ]
    }
   ],
   "source": [
    "print(\"p-value для сравнения конверсии между группами: {0:.5f}\".format(stats.mannwhitneyu(sampleA, sampleB, alternative='two-sided')[1]))\n",
    "\n",
    "print(\"относительное различие в конверсии между группами: {0:.3f}\".format((\n",
    "    data['ordersPerDateB'].sum()\n",
    "    /data['visitorsPerDateB'].sum())\n",
    "    /(data['ordersPerDateA'].sum()/data['visitorsPerDateA'].sum())-1))"
   ]
  },
  {
   "cell_type": "markdown",
   "metadata": {},
   "source": [
    "#### Выводы и предположения"
   ]
  },
  {
   "cell_type": "markdown",
   "metadata": {},
   "source": [
    "p-value гораздо больше, чем 0.05, поэтому нулевую гипотезу не можем отвергнуть - т. о. анализ \"сырых данных\" говорит о том, что в конверсии между группами нет статистически значимых различий."
   ]
  },
  {
   "cell_type": "markdown",
   "metadata": {},
   "source": [
    "### Статистическая значимость различий в среднем чеке заказа между группами по «сырым» данным"
   ]
  },
  {
   "cell_type": "markdown",
   "metadata": {},
   "source": [
    "Посчитаем статистическую значимость различий в среднем чеке заказа между группами по «сырым» данным. "
   ]
  },
  {
   "cell_type": "markdown",
   "metadata": {},
   "source": [
    "* Сформулируем нулевую гипотезу: между средними чеками групп A и B по \"сырым\" данным нет разницы.\n",
    "* Тогда обратная гипотеза будет следующей: в среднем чеке групп по \"сырым\" данным есть статистически значимые различия."
   ]
  },
  {
   "cell_type": "code",
   "execution_count": 66,
   "metadata": {},
   "outputs": [
    {
     "name": "stdout",
     "output_type": "stream",
     "text": [
      "p-value для сравнения средних чеков между группами: 0.844\n",
      "относительный прирост среднего чека группы B: 0.261\n"
     ]
    }
   ],
   "source": [
    "print(\n",
    "    \"p-value для сравнения средних чеков между группами: {0:.3f}\".format(\n",
    "        stats.mannwhitneyu(\n",
    "            orders[orders['group'] == 'A']['revenue'],\n",
    "            orders[orders['group'] == 'B']['revenue'],\n",
    "            alternative='two-sided'\n",
    "        )[1]\n",
    "    )\n",
    ")\n",
    "\n",
    "print(\n",
    "    \"относительный прирост среднего чека группы B: {0:.3f}\".format(\n",
    "        orders[orders['group'] == 'B']['revenue'].mean()\n",
    "        / orders[orders['group'] == 'A']['revenue'].mean() - 1\n",
    "    )\n",
    ")"
   ]
  },
  {
   "cell_type": "markdown",
   "metadata": {},
   "source": [
    "#### Выводы и предположения"
   ]
  },
  {
   "cell_type": "markdown",
   "metadata": {},
   "source": [
    "p-value намного больше 0.05 - значит, значимых отличий в среднем чеке между группами нет.\n",
    "\n",
    "Тем не менее относительное различие среднего чека между сегментами равно почти 26%."
   ]
  },
  {
   "cell_type": "markdown",
   "metadata": {},
   "source": [
    "### Статистическая значимость различий в конверсии между группами по «очищенным» данным"
   ]
  },
  {
   "cell_type": "markdown",
   "metadata": {},
   "source": [
    "* Сформулируем нулевую гипотезу: между конверсиями групп A и B по \"очищенным\" данным нет разницы.\n",
    "* Тогда обратная гипотеза будет следующей: в конверсии между группами по \"очищенным\" данным есть статистически значимые различия."
   ]
  },
  {
   "cell_type": "markdown",
   "metadata": {},
   "source": [
    "Подготовим очищенные от аномалий данные:"
   ]
  },
  {
   "cell_type": "code",
   "execution_count": 67,
   "metadata": {},
   "outputs": [
    {
     "data": {
      "text/plain": [
       "17"
      ]
     },
     "execution_count": 67,
     "metadata": {},
     "output_type": "execute_result"
    }
   ],
   "source": [
    "usersWithManyOrders = pd.concat(\n",
    "    [\n",
    "        ordersByUsersA[ordersByUsersA['orders'] > 3]['userId'],\n",
    "        ordersByUsersB[ordersByUsersB['orders'] > 3]['userId'],\n",
    "    ],\n",
    "    axis=0,\n",
    ")\n",
    "\n",
    "usersWithExpensiveOrders = orders[orders['revenue'] > 58000]['visitorId']\n",
    "\n",
    "abnormalUsers = (\n",
    "    pd.concat([usersWithManyOrders, usersWithExpensiveOrders], axis=0)\n",
    "    .drop_duplicates()\n",
    "    .sort_values()\n",
    ")\n",
    "len(abnormalUsers)"
   ]
  },
  {
   "cell_type": "markdown",
   "metadata": {},
   "source": [
    "Всего 17 пользователей с аномальными заказами!"
   ]
  },
  {
   "cell_type": "code",
   "execution_count": 68,
   "metadata": {},
   "outputs": [
    {
     "data": {
      "text/plain": [
       "1031"
      ]
     },
     "execution_count": 68,
     "metadata": {},
     "output_type": "execute_result"
    }
   ],
   "source": [
    "orders['visitorId'].nunique()"
   ]
  },
  {
   "cell_type": "markdown",
   "metadata": {},
   "source": [
    "Создадим переменные sampleAFiltered и sampleBFiltered, в которых сохраним очищенные данные о заказах."
   ]
  },
  {
   "cell_type": "code",
   "execution_count": 69,
   "metadata": {},
   "outputs": [],
   "source": [
    "sampleAFiltered = pd.concat(\n",
    "    [\n",
    "        ordersByUsersA[\n",
    "            np.logical_not(ordersByUsersA['userId'].isin(abnormalUsers))\n",
    "        ]['orders'],\n",
    "        pd.Series(\n",
    "            0,\n",
    "            index=np.arange(\n",
    "                data['visitorsPerDateA'].sum() - len(ordersByUsersA['orders'])\n",
    "            ),\n",
    "            name='orders',\n",
    "        ),\n",
    "    ],\n",
    "    axis=0,\n",
    ")\n",
    "\n",
    "sampleBFiltered = pd.concat(\n",
    "    [\n",
    "        ordersByUsersB[\n",
    "            np.logical_not(ordersByUsersB['userId'].isin(abnormalUsers))\n",
    "        ]['orders'],\n",
    "        pd.Series(\n",
    "            0,\n",
    "            index=np.arange(\n",
    "                data['visitorsPerDateB'].sum() - len(ordersByUsersB['orders'])\n",
    "            ),\n",
    "            name='orders',\n",
    "        ),\n",
    "    ],\n",
    "    axis=0,\n",
    ")\n"
   ]
  },
  {
   "cell_type": "markdown",
   "metadata": {},
   "source": [
    "Посчитаем статистическую значимость различия конверсии после удаления аномальных пользователей. "
   ]
  },
  {
   "cell_type": "code",
   "execution_count": 70,
   "metadata": {},
   "outputs": [
    {
     "name": "stdout",
     "output_type": "stream",
     "text": [
      "p-value для сравнения конверсии между группами по очищенным данным: 0.36083\n",
      "относительный прирост конверсии очищенной группы B: 0.034\n"
     ]
    }
   ],
   "source": [
    "print(\"p-value для сравнения конверсии между группами по очищенным данным: {0:.5f}\".format(stats.mannwhitneyu(sampleAFiltered, sampleBFiltered, alternative='two-sided')[1]))\n",
    "print(\"относительный прирост конверсии очищенной группы B: {0:.3f}\".format(sampleBFiltered.mean()/sampleAFiltered.mean()-1))"
   ]
  },
  {
   "cell_type": "markdown",
   "metadata": {},
   "source": [
    "#### Выводы и предположения"
   ]
  },
  {
   "cell_type": "markdown",
   "metadata": {},
   "source": [
    "Как и в случае с сырыми данными, p-value значительно больше 0.05, а значит, статиистическая значимость не достигнута. Т. е. конверсии групп A и B не различаются."
   ]
  },
  {
   "cell_type": "markdown",
   "metadata": {},
   "source": [
    "### Статистическая значимость различий в среднем чеке заказа между группами по «очищенным» данным"
   ]
  },
  {
   "cell_type": "markdown",
   "metadata": {},
   "source": [
    "Посчитаем статистическую значимость различий в среднем чеке заказа между группами по «очищенным» данным. "
   ]
  },
  {
   "cell_type": "code",
   "execution_count": 71,
   "metadata": {},
   "outputs": [
    {
     "name": "stdout",
     "output_type": "stream",
     "text": [
      "p-value для сравнения среднего чека между группами по очищенным данным: 0.841\n",
      "относительный прирост среднего чека очищенной группы B: -0.030\n"
     ]
    }
   ],
   "source": [
    "print(\n",
    "    \"p-value для сравнения среднего чека между группами по очищенным данным: {0:.3f}\".format(\n",
    "        stats.mannwhitneyu(\n",
    "            orders[\n",
    "                np.logical_and(\n",
    "                    orders['group'] == 'A',\n",
    "                    np.logical_not(orders['visitorId'].isin(abnormalUsers)),\n",
    "                )\n",
    "            ]['revenue'],\n",
    "            orders[\n",
    "                np.logical_and(\n",
    "                    orders['group'] == 'B',\n",
    "                    np.logical_not(orders['visitorId'].isin(abnormalUsers)),\n",
    "                )\n",
    "            ]['revenue'],\n",
    "            alternative='two-sided'\n",
    "        )[1]\n",
    "    )\n",
    ")\n",
    "\n",
    "print(\n",
    "    \"относительный прирост среднего чека очищенной группы B: {0:.3f}\".format(\n",
    "        orders[\n",
    "            np.logical_and(\n",
    "                orders['group'] == 'B',\n",
    "                np.logical_not(orders['visitorId'].isin(abnormalUsers)),\n",
    "            )\n",
    "        ]['revenue'].mean()\n",
    "        / orders[\n",
    "            np.logical_and(\n",
    "                orders['group'] == 'A',\n",
    "                np.logical_not(orders['visitorId'].isin(abnormalUsers)),\n",
    "            )\n",
    "        ]['revenue'].mean()\n",
    "        - 1\n",
    "    )\n",
    ")"
   ]
  },
  {
   "cell_type": "markdown",
   "metadata": {},
   "source": [
    "#### Выводы и предположения"
   ]
  },
  {
   "cell_type": "markdown",
   "metadata": {},
   "source": [
    "Как и в случае сырых данных p-value значительно больше 0.05 - значит, значимых отличий в среднем чеке даже по очищенным данным между группами нет."
   ]
  },
  {
   "cell_type": "markdown",
   "metadata": {},
   "source": [
    "### Решение по результатам теста"
   ]
  },
  {
   "cell_type": "markdown",
   "metadata": {},
   "source": [
    "**Приоритизация гипотез**\n",
    "\n",
    "* гипотеза \"база клиентов\" была на 3-м месте при приориитизации  ICE, но при приоритизации RICE с большим отрывом вырывается вперед. Так получилось из-за того, что именно данная гипотеза имеет высший балл по охвату (10)\n",
    "* \"блоки рекомендаций\" - не было в тройке при приоритизации ICE, там эта гипотеза была на пятом месте; при RICE - на втором месте. Здесь это благодаря опять же охвату (8), а также благодаря достаточно высокой уверенности в гипотезе (7)\n",
    "* \"два новых канала\" встречается в обеих приоритизациях, но в ICE она на втором месте, а в RICE - на третьем (небольшое значение охвата (3) при высоких остальных параметрах, участвующих в ICE)\n",
    "* при приоритизации RICE третье место делят две гиптезы - \"два новых канала\" и \"актуальные акции\" "
   ]
  },
  {
   "cell_type": "markdown",
   "metadata": {},
   "source": [
    "**Анализ данных**\n",
    "\n",
    "* Выручка увеличивается в течение всего теста.\n",
    "* График кумулятивной группы A растет равномерно, тогда как график группы B в одной точке начинает резко расти - либо это всплески числа заказов, либо появление очень дорогих заказов в выборке.\n",
    "* Похоже, что в группу B с 18 августа (воскресенье) пришли очень активные пользователи, которые сделали много заказов, что повлияло на средний чек.\n",
    "* Конверсии обеих групп начали выравниваться, начиная с 10 августа.\n",
    "* Наблюдаем прирост конверсии группы B в 5% относительно группы A с 10 августа, но затем в районе 22 августа конверсия группы B пошла на спад относительно группы B.\n",
    "* Не более 5% пользователей сделали больше одного заказа. И не более 1% - больше 3-х заказов.\n",
    "* В основном все заказы не выше 100 тыс. Есть аномальный заказ за 1.3 млн, и еще один выбивающийся не так явно - 202 тыс.\n",
    "* Не более чем у 5% заказов чек дороже 27470 руб., а также не больше 1% заказов дороже 58047 руб."
   ]
  },
  {
   "cell_type": "markdown",
   "metadata": {},
   "source": [
    "**А/Б-тест**\n",
    "\n",
    "* Анализ \"сырых данных\" говорит о том, что в конверсии между группами нет статистически значимых различий.\n",
    "* Значимых отличий в среднем чеке между группами нет.\n",
    "* Как и в случае с сырыми данными, p-value значительно больше 0.05, а значит, статиистическая значимость не достигнута. Т. е. конверсии групп A и B не различаются."
   ]
  },
  {
   "cell_type": "markdown",
   "metadata": {},
   "source": [
    "В итоге статистически значимого различия по среднему чеку между группами нет, а также нет значимого различия мжеду группами по конверсии, даже при удалении аномальных значений. \n",
    "\n",
    "Поэтому делаем вывод, что нужно остановить тест ввиду отсутствия различий между группами."
   ]
  }
 ],
 "metadata": {
  "ExecuteTimeLog": [
   {
    "duration": 2100,
    "start_time": "2021-06-08T19:48:45.316Z"
   },
   {
    "duration": 75,
    "start_time": "2021-06-08T19:48:47.419Z"
   },
   {
    "duration": 16,
    "start_time": "2021-06-08T19:48:47.498Z"
   },
   {
    "duration": 12,
    "start_time": "2021-06-08T19:48:47.517Z"
   },
   {
    "duration": 7,
    "start_time": "2021-06-08T19:48:47.532Z"
   },
   {
    "duration": 10,
    "start_time": "2021-06-08T19:48:47.542Z"
   },
   {
    "duration": 8,
    "start_time": "2021-06-08T19:48:47.555Z"
   },
   {
    "duration": 58,
    "start_time": "2021-06-08T19:48:47.569Z"
   },
   {
    "duration": 11,
    "start_time": "2021-06-08T19:48:47.631Z"
   },
   {
    "duration": 8,
    "start_time": "2021-06-08T19:48:47.645Z"
   },
   {
    "duration": 23,
    "start_time": "2021-06-08T19:48:47.655Z"
   },
   {
    "duration": 44,
    "start_time": "2021-06-08T19:48:47.681Z"
   },
   {
    "duration": 13,
    "start_time": "2021-06-08T19:48:47.728Z"
   },
   {
    "duration": 10,
    "start_time": "2021-06-08T19:48:47.744Z"
   },
   {
    "duration": 13,
    "start_time": "2021-06-08T19:48:47.757Z"
   },
   {
    "duration": 54,
    "start_time": "2021-06-08T19:48:47.772Z"
   },
   {
    "duration": 616,
    "start_time": "2021-06-08T19:48:47.829Z"
   },
   {
    "duration": 10,
    "start_time": "2021-06-08T19:48:48.447Z"
   },
   {
    "duration": 743,
    "start_time": "2021-06-08T19:48:48.459Z"
   },
   {
    "duration": 396,
    "start_time": "2021-06-08T19:48:49.224Z"
   },
   {
    "duration": 380,
    "start_time": "2021-06-08T19:50:22.353Z"
   },
   {
    "duration": 205,
    "start_time": "2021-06-08T19:51:53.434Z"
   },
   {
    "duration": 748,
    "start_time": "2021-06-08T19:52:15.465Z"
   },
   {
    "duration": 704,
    "start_time": "2021-06-08T19:57:06.934Z"
   },
   {
    "duration": 338,
    "start_time": "2021-06-08T19:57:36.126Z"
   },
   {
    "duration": 182,
    "start_time": "2021-06-08T19:57:47.435Z"
   },
   {
    "duration": 190,
    "start_time": "2021-06-08T19:57:56.412Z"
   },
   {
    "duration": 196,
    "start_time": "2021-06-08T19:58:11.314Z"
   },
   {
    "duration": 577,
    "start_time": "2021-06-08T19:59:37.517Z"
   },
   {
    "duration": 459,
    "start_time": "2021-06-08T20:01:27.057Z"
   },
   {
    "duration": 566,
    "start_time": "2021-06-08T20:01:47.494Z"
   },
   {
    "duration": 610,
    "start_time": "2021-06-08T20:03:19.286Z"
   },
   {
    "duration": 618,
    "start_time": "2021-06-08T20:05:23.661Z"
   },
   {
    "duration": 449,
    "start_time": "2021-06-08T20:05:42.619Z"
   },
   {
    "duration": 443,
    "start_time": "2021-06-08T20:05:48.522Z"
   },
   {
    "duration": 447,
    "start_time": "2021-06-08T20:06:31.311Z"
   },
   {
    "duration": 324,
    "start_time": "2021-06-08T20:06:37.984Z"
   },
   {
    "duration": 184,
    "start_time": "2021-06-08T20:07:14.135Z"
   },
   {
    "duration": 182,
    "start_time": "2021-06-08T20:07:22.763Z"
   },
   {
    "duration": 468,
    "start_time": "2021-06-08T20:07:33.437Z"
   },
   {
    "duration": 693,
    "start_time": "2021-06-08T20:07:59.540Z"
   },
   {
    "duration": 735,
    "start_time": "2021-06-08T20:08:12.889Z"
   },
   {
    "duration": 184,
    "start_time": "2021-06-08T20:08:20.548Z"
   },
   {
    "duration": 334,
    "start_time": "2021-06-08T20:08:43.092Z"
   },
   {
    "duration": 9,
    "start_time": "2021-06-08T20:09:08.074Z"
   },
   {
    "duration": 175,
    "start_time": "2021-06-08T20:09:09.189Z"
   },
   {
    "duration": 183,
    "start_time": "2021-06-08T20:09:29.653Z"
   },
   {
    "duration": 184,
    "start_time": "2021-06-08T20:10:17.931Z"
   },
   {
    "duration": 93,
    "start_time": "2021-06-08T20:12:40.842Z"
   },
   {
    "duration": 420,
    "start_time": "2021-06-08T20:13:44.990Z"
   },
   {
    "duration": 279,
    "start_time": "2021-06-08T20:14:00.464Z"
   },
   {
    "duration": 305,
    "start_time": "2021-06-08T20:14:26.588Z"
   },
   {
    "duration": 754,
    "start_time": "2021-06-08T20:14:32.322Z"
   },
   {
    "duration": 9,
    "start_time": "2021-06-08T20:15:18.354Z"
   },
   {
    "duration": 465,
    "start_time": "2021-06-08T20:16:05.110Z"
   },
   {
    "duration": 302,
    "start_time": "2021-06-08T20:16:10.953Z"
   },
   {
    "duration": 303,
    "start_time": "2021-06-08T20:16:23.438Z"
   },
   {
    "duration": 294,
    "start_time": "2021-06-08T20:16:31.337Z"
   },
   {
    "duration": 299,
    "start_time": "2021-06-08T20:16:39.700Z"
   },
   {
    "duration": 298,
    "start_time": "2021-06-08T20:16:48.444Z"
   },
   {
    "duration": 187,
    "start_time": "2021-06-08T20:18:04.546Z"
   },
   {
    "duration": 193,
    "start_time": "2021-06-08T20:18:26.296Z"
   },
   {
    "duration": 11,
    "start_time": "2021-06-08T20:18:45.833Z"
   },
   {
    "duration": 352,
    "start_time": "2021-06-08T20:18:47.576Z"
   },
   {
    "duration": 386,
    "start_time": "2021-06-08T20:24:30.439Z"
   },
   {
    "duration": 424,
    "start_time": "2021-06-08T20:25:08.706Z"
   },
   {
    "duration": 444,
    "start_time": "2021-06-08T20:26:08.683Z"
   },
   {
    "duration": 116,
    "start_time": "2021-06-08T20:26:33.230Z"
   },
   {
    "duration": 456,
    "start_time": "2021-06-08T20:26:37.446Z"
   },
   {
    "duration": 535,
    "start_time": "2021-06-08T20:26:55.058Z"
   },
   {
    "duration": 606,
    "start_time": "2021-06-08T20:27:21.181Z"
   },
   {
    "duration": 458,
    "start_time": "2021-06-08T20:27:27.527Z"
   },
   {
    "duration": 537,
    "start_time": "2021-06-08T20:27:35.129Z"
   },
   {
    "duration": 438,
    "start_time": "2021-06-08T20:27:44.839Z"
   },
   {
    "duration": 1194,
    "start_time": "2021-06-08T20:27:52.970Z"
   },
   {
    "duration": 600,
    "start_time": "2021-06-08T20:27:56.285Z"
   },
   {
    "duration": 453,
    "start_time": "2021-06-08T20:28:00.706Z"
   },
   {
    "duration": 452,
    "start_time": "2021-06-08T20:28:19.943Z"
   },
   {
    "duration": 179,
    "start_time": "2021-06-08T20:31:07.585Z"
   },
   {
    "duration": 95,
    "start_time": "2021-06-08T20:39:31.516Z"
   },
   {
    "duration": 190,
    "start_time": "2021-06-08T20:40:12.499Z"
   },
   {
    "duration": 348,
    "start_time": "2021-06-08T20:40:32.940Z"
   },
   {
    "duration": 185,
    "start_time": "2021-06-08T20:40:43.677Z"
   },
   {
    "duration": 185,
    "start_time": "2021-06-08T20:41:12.838Z"
   },
   {
    "duration": 186,
    "start_time": "2021-06-08T20:41:28.862Z"
   },
   {
    "duration": 461,
    "start_time": "2021-06-08T20:41:50.420Z"
   },
   {
    "duration": 606,
    "start_time": "2021-06-08T20:42:00.966Z"
   },
   {
    "duration": 189,
    "start_time": "2021-06-08T20:42:11.743Z"
   },
   {
    "duration": 96,
    "start_time": "2021-06-08T20:42:28.773Z"
   },
   {
    "duration": 717,
    "start_time": "2021-06-08T20:42:43.201Z"
   },
   {
    "duration": 204,
    "start_time": "2021-06-08T20:42:49.834Z"
   },
   {
    "duration": 178,
    "start_time": "2021-06-08T20:43:04.323Z"
   },
   {
    "duration": 359,
    "start_time": "2021-06-08T20:43:17.906Z"
   },
   {
    "duration": 185,
    "start_time": "2021-06-08T20:43:24.975Z"
   },
   {
    "duration": 190,
    "start_time": "2021-06-08T20:44:16.743Z"
   },
   {
    "duration": 192,
    "start_time": "2021-06-08T20:44:30.151Z"
   },
   {
    "duration": 327,
    "start_time": "2021-06-08T20:44:37.923Z"
   },
   {
    "duration": 175,
    "start_time": "2021-06-08T20:44:44.031Z"
   },
   {
    "duration": 179,
    "start_time": "2021-06-08T20:44:59.558Z"
   },
   {
    "duration": 185,
    "start_time": "2021-06-08T20:45:19.814Z"
   },
   {
    "duration": 333,
    "start_time": "2021-06-08T20:54:47.897Z"
   },
   {
    "duration": 186,
    "start_time": "2021-06-08T20:54:55.211Z"
   },
   {
    "duration": 532,
    "start_time": "2021-06-08T20:55:01.071Z"
   },
   {
    "duration": 5,
    "start_time": "2021-06-08T20:55:32.931Z"
   },
   {
    "duration": 420,
    "start_time": "2021-06-08T20:55:38.585Z"
   },
   {
    "duration": 484,
    "start_time": "2021-06-08T20:56:09.525Z"
   },
   {
    "duration": 666,
    "start_time": "2021-06-08T20:56:28.333Z"
   },
   {
    "duration": 168,
    "start_time": "2021-06-08T20:57:16.338Z"
   },
   {
    "duration": 175,
    "start_time": "2021-06-08T20:57:31.578Z"
   },
   {
    "duration": 429,
    "start_time": "2021-06-08T20:58:39.564Z"
   },
   {
    "duration": 5,
    "start_time": "2021-06-08T20:59:15.561Z"
   },
   {
    "duration": 786,
    "start_time": "2021-06-08T20:59:23.052Z"
   },
   {
    "duration": 432,
    "start_time": "2021-06-08T21:01:05.378Z"
   },
   {
    "duration": 5,
    "start_time": "2021-06-08T21:01:13.513Z"
   },
   {
    "duration": 492,
    "start_time": "2021-06-08T21:01:19.100Z"
   },
   {
    "duration": 461,
    "start_time": "2021-06-08T21:02:07.969Z"
   },
   {
    "duration": 657,
    "start_time": "2021-06-08T21:07:58.300Z"
   },
   {
    "duration": 194,
    "start_time": "2021-06-08T21:08:18.481Z"
   },
   {
    "duration": 196,
    "start_time": "2021-06-08T21:10:19.499Z"
   },
   {
    "duration": 2136,
    "start_time": "2021-06-09T20:27:58.452Z"
   },
   {
    "duration": 61,
    "start_time": "2021-06-09T20:28:00.591Z"
   },
   {
    "duration": 22,
    "start_time": "2021-06-09T20:28:00.656Z"
   },
   {
    "duration": 34,
    "start_time": "2021-06-09T20:28:00.682Z"
   },
   {
    "duration": 29,
    "start_time": "2021-06-09T20:28:00.719Z"
   },
   {
    "duration": 30,
    "start_time": "2021-06-09T20:28:00.751Z"
   },
   {
    "duration": 51,
    "start_time": "2021-06-09T20:28:00.783Z"
   },
   {
    "duration": 76,
    "start_time": "2021-06-09T20:28:00.839Z"
   },
   {
    "duration": 55,
    "start_time": "2021-06-09T20:28:00.918Z"
   },
   {
    "duration": 24,
    "start_time": "2021-06-09T20:28:00.976Z"
   },
   {
    "duration": 90,
    "start_time": "2021-06-09T20:28:01.002Z"
   },
   {
    "duration": 72,
    "start_time": "2021-06-09T20:28:01.094Z"
   },
   {
    "duration": 31,
    "start_time": "2021-06-09T20:28:01.168Z"
   },
   {
    "duration": 33,
    "start_time": "2021-06-09T20:28:01.202Z"
   },
   {
    "duration": 50,
    "start_time": "2021-06-09T20:28:01.238Z"
   },
   {
    "duration": 16,
    "start_time": "2021-06-09T20:28:01.291Z"
   },
   {
    "duration": 752,
    "start_time": "2021-06-09T20:28:01.310Z"
   },
   {
    "duration": 9,
    "start_time": "2021-06-09T20:28:02.064Z"
   },
   {
    "duration": 887,
    "start_time": "2021-06-09T20:28:02.075Z"
   },
   {
    "duration": 465,
    "start_time": "2021-06-09T20:28:02.965Z"
   },
   {
    "duration": 12,
    "start_time": "2021-06-09T20:28:03.433Z"
   },
   {
    "duration": 277,
    "start_time": "2021-06-09T20:28:03.463Z"
   },
   {
    "duration": 20,
    "start_time": "2021-06-09T20:28:03.745Z"
   },
   {
    "duration": 217,
    "start_time": "2021-06-09T20:28:03.768Z"
   },
   {
    "duration": 143,
    "start_time": "2021-06-09T20:28:03.989Z"
   },
   {
    "duration": -201,
    "start_time": "2021-06-09T20:28:04.336Z"
   },
   {
    "duration": -202,
    "start_time": "2021-06-09T20:28:04.339Z"
   },
   {
    "duration": 1074,
    "start_time": "2021-06-09T20:28:28.319Z"
   },
   {
    "duration": 120,
    "start_time": "2021-06-09T20:28:31.159Z"
   },
   {
    "duration": 300,
    "start_time": "2021-06-09T20:28:33.144Z"
   },
   {
    "duration": 410,
    "start_time": "2021-06-09T20:28:44.348Z"
   },
   {
    "duration": 180,
    "start_time": "2021-06-09T20:28:52.075Z"
   },
   {
    "duration": 200,
    "start_time": "2021-06-09T20:29:07.842Z"
   },
   {
    "duration": 179,
    "start_time": "2021-06-09T20:29:29.817Z"
   },
   {
    "duration": 456,
    "start_time": "2021-06-09T20:29:39.394Z"
   },
   {
    "duration": 361,
    "start_time": "2021-06-09T20:30:02.363Z"
   },
   {
    "duration": 123,
    "start_time": "2021-06-09T20:31:06.405Z"
   },
   {
    "duration": 199,
    "start_time": "2021-06-09T20:31:14.087Z"
   },
   {
    "duration": 129,
    "start_time": "2021-06-09T20:31:25.329Z"
   },
   {
    "duration": 622,
    "start_time": "2021-06-09T20:33:44.458Z"
   },
   {
    "duration": 5,
    "start_time": "2021-06-09T20:34:27.145Z"
   },
   {
    "duration": 190,
    "start_time": "2021-06-09T20:34:40.292Z"
   },
   {
    "duration": 667,
    "start_time": "2021-06-09T20:34:51.080Z"
   },
   {
    "duration": 1194,
    "start_time": "2021-06-09T20:35:08.706Z"
   },
   {
    "duration": 548,
    "start_time": "2021-06-09T20:35:47.639Z"
   },
   {
    "duration": 197,
    "start_time": "2021-06-09T20:39:05.620Z"
   },
   {
    "duration": 729,
    "start_time": "2021-06-09T20:39:31.117Z"
   },
   {
    "duration": 299,
    "start_time": "2021-06-09T20:39:41.137Z"
   },
   {
    "duration": 293,
    "start_time": "2021-06-09T20:39:56.135Z"
   },
   {
    "duration": 678,
    "start_time": "2021-06-09T20:40:12.655Z"
   },
   {
    "duration": 356,
    "start_time": "2021-06-09T20:40:17.664Z"
   },
   {
    "duration": 219,
    "start_time": "2021-06-09T20:40:24.089Z"
   },
   {
    "duration": 184,
    "start_time": "2021-06-09T20:41:03.158Z"
   },
   {
    "duration": 99,
    "start_time": "2021-06-09T20:47:28.828Z"
   },
   {
    "duration": 118,
    "start_time": "2021-06-09T20:47:39.305Z"
   },
   {
    "duration": 437,
    "start_time": "2021-06-09T20:47:59.241Z"
   },
   {
    "duration": 499,
    "start_time": "2021-06-09T20:51:21.537Z"
   },
   {
    "duration": 446,
    "start_time": "2021-06-09T20:51:31.941Z"
   },
   {
    "duration": 456,
    "start_time": "2021-06-09T20:52:30.460Z"
   },
   {
    "duration": 580,
    "start_time": "2021-06-09T20:52:51.659Z"
   },
   {
    "duration": 503,
    "start_time": "2021-06-09T20:52:56.006Z"
   },
   {
    "duration": 418,
    "start_time": "2021-06-09T20:53:07.047Z"
   },
   {
    "duration": 1043,
    "start_time": "2021-06-09T20:54:21.927Z"
   },
   {
    "duration": 708,
    "start_time": "2021-06-09T20:54:30.250Z"
   },
   {
    "duration": 470,
    "start_time": "2021-06-09T20:56:51.690Z"
   },
   {
    "duration": 563,
    "start_time": "2021-06-09T20:57:03.935Z"
   },
   {
    "duration": 649,
    "start_time": "2021-06-09T20:57:11.452Z"
   },
   {
    "duration": 702,
    "start_time": "2021-06-09T20:58:01.650Z"
   },
   {
    "duration": 833,
    "start_time": "2021-06-09T20:58:31.958Z"
   },
   {
    "duration": 672,
    "start_time": "2021-06-09T20:59:42.260Z"
   },
   {
    "duration": 544,
    "start_time": "2021-06-09T21:00:31.444Z"
   },
   {
    "duration": 132,
    "start_time": "2021-06-09T21:00:50.393Z"
   },
   {
    "duration": 187,
    "start_time": "2021-06-09T21:01:07.490Z"
   },
   {
    "duration": 522,
    "start_time": "2021-06-09T21:01:33.706Z"
   },
   {
    "duration": 336,
    "start_time": "2021-06-09T21:01:43.763Z"
   },
   {
    "duration": 191,
    "start_time": "2021-06-09T21:02:09.813Z"
   },
   {
    "duration": 596,
    "start_time": "2021-06-09T21:02:17.840Z"
   },
   {
    "duration": 202,
    "start_time": "2021-06-09T21:02:21.097Z"
   },
   {
    "duration": 736,
    "start_time": "2021-06-09T21:05:42.822Z"
   },
   {
    "duration": 190,
    "start_time": "2021-06-09T21:05:59.099Z"
   },
   {
    "duration": 198,
    "start_time": "2021-06-09T21:06:20.040Z"
   },
   {
    "duration": 198,
    "start_time": "2021-06-09T21:06:27.555Z"
   },
   {
    "duration": 341,
    "start_time": "2021-06-09T21:06:37.612Z"
   },
   {
    "duration": 301,
    "start_time": "2021-06-09T21:06:47.744Z"
   },
   {
    "duration": 299,
    "start_time": "2021-06-09T21:07:08.801Z"
   },
   {
    "duration": 708,
    "start_time": "2021-06-09T21:07:16.987Z"
   },
   {
    "duration": 130,
    "start_time": "2021-06-09T21:07:32.916Z"
   },
   {
    "duration": 847,
    "start_time": "2021-06-09T21:07:51.698Z"
   },
   {
    "duration": 290,
    "start_time": "2021-06-09T21:09:26.149Z"
   },
   {
    "duration": 659,
    "start_time": "2021-06-09T21:10:20.655Z"
   },
   {
    "duration": 211,
    "start_time": "2021-06-09T21:10:25.047Z"
   },
   {
    "duration": 216,
    "start_time": "2021-06-09T21:10:34.135Z"
   },
   {
    "duration": 351,
    "start_time": "2021-06-09T21:10:46.926Z"
   },
   {
    "duration": 197,
    "start_time": "2021-06-09T21:11:01.214Z"
   },
   {
    "duration": 587,
    "start_time": "2021-06-09T21:12:47.154Z"
   },
   {
    "duration": 571,
    "start_time": "2021-06-09T21:13:01.339Z"
   },
   {
    "duration": 666,
    "start_time": "2021-06-09T21:15:38.083Z"
   },
   {
    "duration": 889,
    "start_time": "2021-06-09T21:17:15.677Z"
   },
   {
    "duration": 711,
    "start_time": "2021-06-09T21:22:08.419Z"
   },
   {
    "duration": 118,
    "start_time": "2021-06-09T21:23:53.104Z"
   },
   {
    "duration": 711,
    "start_time": "2021-06-09T21:24:06.758Z"
   },
   {
    "duration": 528,
    "start_time": "2021-06-09T21:28:56.287Z"
   },
   {
    "duration": 783,
    "start_time": "2021-06-09T21:29:19.206Z"
   },
   {
    "duration": 539,
    "start_time": "2021-06-09T21:29:51.349Z"
   },
   {
    "duration": 989,
    "start_time": "2021-06-09T21:30:11.467Z"
   },
   {
    "duration": 104,
    "start_time": "2021-06-09T21:31:15.419Z"
   },
   {
    "duration": 1895,
    "start_time": "2021-06-10T16:56:32.660Z"
   },
   {
    "duration": 70,
    "start_time": "2021-06-10T16:56:34.557Z"
   },
   {
    "duration": 18,
    "start_time": "2021-06-10T16:56:34.631Z"
   },
   {
    "duration": 12,
    "start_time": "2021-06-10T16:56:34.652Z"
   },
   {
    "duration": 6,
    "start_time": "2021-06-10T16:56:34.666Z"
   },
   {
    "duration": 33,
    "start_time": "2021-06-10T16:56:34.675Z"
   },
   {
    "duration": 6,
    "start_time": "2021-06-10T16:56:34.710Z"
   },
   {
    "duration": 10,
    "start_time": "2021-06-10T16:56:34.718Z"
   },
   {
    "duration": 8,
    "start_time": "2021-06-10T16:56:34.732Z"
   },
   {
    "duration": 8,
    "start_time": "2021-06-10T16:56:34.743Z"
   },
   {
    "duration": 21,
    "start_time": "2021-06-10T16:56:34.801Z"
   },
   {
    "duration": 9,
    "start_time": "2021-06-10T16:56:34.825Z"
   },
   {
    "duration": 16,
    "start_time": "2021-06-10T16:56:34.837Z"
   },
   {
    "duration": 53,
    "start_time": "2021-06-10T16:56:34.856Z"
   },
   {
    "duration": 17,
    "start_time": "2021-06-10T16:56:34.913Z"
   },
   {
    "duration": 12,
    "start_time": "2021-06-10T16:56:34.932Z"
   },
   {
    "duration": 631,
    "start_time": "2021-06-10T16:56:34.947Z"
   },
   {
    "duration": 23,
    "start_time": "2021-06-10T16:56:35.582Z"
   },
   {
    "duration": 744,
    "start_time": "2021-06-10T16:56:35.608Z"
   },
   {
    "duration": 532,
    "start_time": "2021-06-10T16:56:36.355Z"
   },
   {
    "duration": 15,
    "start_time": "2021-06-10T16:56:36.889Z"
   },
   {
    "duration": 198,
    "start_time": "2021-06-10T16:56:36.906Z"
   },
   {
    "duration": 8,
    "start_time": "2021-06-10T16:56:37.107Z"
   },
   {
    "duration": 208,
    "start_time": "2021-06-10T16:56:37.118Z"
   },
   {
    "duration": 506,
    "start_time": "2021-06-10T16:56:37.328Z"
   },
   {
    "duration": -1551,
    "start_time": "2021-06-10T16:56:39.388Z"
   },
   {
    "duration": 110,
    "start_time": "2021-06-10T16:57:16.500Z"
   },
   {
    "duration": 4545,
    "start_time": "2021-06-10T16:57:28.719Z"
   },
   {
    "duration": 70,
    "start_time": "2021-06-10T16:57:33.268Z"
   },
   {
    "duration": 15,
    "start_time": "2021-06-10T16:57:33.342Z"
   },
   {
    "duration": 14,
    "start_time": "2021-06-10T16:57:33.360Z"
   },
   {
    "duration": 7,
    "start_time": "2021-06-10T16:57:33.376Z"
   },
   {
    "duration": 15,
    "start_time": "2021-06-10T16:57:33.386Z"
   },
   {
    "duration": 6,
    "start_time": "2021-06-10T16:57:33.404Z"
   },
   {
    "duration": 8,
    "start_time": "2021-06-10T16:57:33.414Z"
   },
   {
    "duration": 9,
    "start_time": "2021-06-10T16:57:33.426Z"
   },
   {
    "duration": 11,
    "start_time": "2021-06-10T16:57:33.437Z"
   },
   {
    "duration": 66,
    "start_time": "2021-06-10T16:57:33.450Z"
   },
   {
    "duration": 9,
    "start_time": "2021-06-10T16:57:33.519Z"
   },
   {
    "duration": 14,
    "start_time": "2021-06-10T16:57:33.531Z"
   },
   {
    "duration": 11,
    "start_time": "2021-06-10T16:57:33.548Z"
   },
   {
    "duration": 52,
    "start_time": "2021-06-10T16:57:33.562Z"
   },
   {
    "duration": 17,
    "start_time": "2021-06-10T16:57:33.616Z"
   },
   {
    "duration": 608,
    "start_time": "2021-06-10T16:57:33.636Z"
   },
   {
    "duration": 10,
    "start_time": "2021-06-10T16:57:34.247Z"
   },
   {
    "duration": 750,
    "start_time": "2021-06-10T16:57:34.260Z"
   },
   {
    "duration": 447,
    "start_time": "2021-06-10T16:57:35.012Z"
   },
   {
    "duration": 10,
    "start_time": "2021-06-10T16:57:35.461Z"
   },
   {
    "duration": 202,
    "start_time": "2021-06-10T16:57:35.474Z"
   },
   {
    "duration": 10,
    "start_time": "2021-06-10T16:57:35.680Z"
   },
   {
    "duration": 204,
    "start_time": "2021-06-10T16:57:35.701Z"
   },
   {
    "duration": 556,
    "start_time": "2021-06-10T16:57:35.908Z"
   },
   {
    "duration": -718,
    "start_time": "2021-06-10T16:57:37.184Z"
   },
   {
    "duration": 16982,
    "start_time": "2021-06-10T16:57:47.531Z"
   },
   {
    "duration": 73,
    "start_time": "2021-06-10T16:58:04.516Z"
   },
   {
    "duration": 12,
    "start_time": "2021-06-10T16:58:04.593Z"
   },
   {
    "duration": 12,
    "start_time": "2021-06-10T16:58:04.607Z"
   },
   {
    "duration": 6,
    "start_time": "2021-06-10T16:58:04.621Z"
   },
   {
    "duration": 12,
    "start_time": "2021-06-10T16:58:04.630Z"
   },
   {
    "duration": 6,
    "start_time": "2021-06-10T16:58:04.645Z"
   },
   {
    "duration": 48,
    "start_time": "2021-06-10T16:58:04.655Z"
   },
   {
    "duration": 9,
    "start_time": "2021-06-10T16:58:04.706Z"
   },
   {
    "duration": 9,
    "start_time": "2021-06-10T16:58:04.718Z"
   },
   {
    "duration": 21,
    "start_time": "2021-06-10T16:58:04.729Z"
   },
   {
    "duration": 49,
    "start_time": "2021-06-10T16:58:04.752Z"
   },
   {
    "duration": 14,
    "start_time": "2021-06-10T16:58:04.803Z"
   },
   {
    "duration": 10,
    "start_time": "2021-06-10T16:58:04.819Z"
   },
   {
    "duration": 15,
    "start_time": "2021-06-10T16:58:05.857Z"
   },
   {
    "duration": 14,
    "start_time": "2021-06-10T16:58:06.774Z"
   },
   {
    "duration": 573,
    "start_time": "2021-06-10T16:58:09.096Z"
   },
   {
    "duration": 11,
    "start_time": "2021-06-10T16:58:09.789Z"
   },
   {
    "duration": 205,
    "start_time": "2021-06-10T16:58:10.010Z"
   },
   {
    "duration": 354,
    "start_time": "2021-06-10T16:58:11.422Z"
   },
   {
    "duration": 10,
    "start_time": "2021-06-10T16:58:13.038Z"
   },
   {
    "duration": 182,
    "start_time": "2021-06-10T16:58:13.371Z"
   },
   {
    "duration": 9,
    "start_time": "2021-06-10T16:58:16.448Z"
   },
   {
    "duration": 193,
    "start_time": "2021-06-10T16:58:16.995Z"
   },
   {
    "duration": 263,
    "start_time": "2021-06-10T16:58:19.167Z"
   },
   {
    "duration": 92,
    "start_time": "2021-06-10T16:58:20.149Z"
   },
   {
    "duration": 208,
    "start_time": "2021-06-10T16:58:57.504Z"
   },
   {
    "duration": 578,
    "start_time": "2021-06-10T17:00:16.754Z"
   },
   {
    "duration": 3453,
    "start_time": "2021-06-10T17:00:41.663Z"
   },
   {
    "duration": 462,
    "start_time": "2021-06-10T17:01:16.672Z"
   },
   {
    "duration": 445,
    "start_time": "2021-06-10T17:02:14.016Z"
   },
   {
    "duration": 425,
    "start_time": "2021-06-10T17:02:48.325Z"
   },
   {
    "duration": 2467,
    "start_time": "2021-06-10T17:04:56.911Z"
   },
   {
    "duration": 3420,
    "start_time": "2021-06-10T17:05:12.886Z"
   },
   {
    "duration": 6,
    "start_time": "2021-06-10T17:05:27.773Z"
   },
   {
    "duration": 3488,
    "start_time": "2021-06-10T17:05:30.515Z"
   },
   {
    "duration": 6,
    "start_time": "2021-06-10T17:05:34.006Z"
   },
   {
    "duration": 690,
    "start_time": "2021-06-10T17:05:34.346Z"
   },
   {
    "duration": 457,
    "start_time": "2021-06-10T17:07:12.557Z"
   },
   {
    "duration": 445,
    "start_time": "2021-06-10T17:07:44.512Z"
   },
   {
    "duration": 183,
    "start_time": "2021-06-10T18:40:44.044Z"
   },
   {
    "duration": 340,
    "start_time": "2021-06-10T18:44:58.248Z"
   },
   {
    "duration": 102,
    "start_time": "2021-06-10T18:50:54.268Z"
   },
   {
    "duration": 86,
    "start_time": "2021-06-10T18:51:03.864Z"
   },
   {
    "duration": 184,
    "start_time": "2021-06-10T18:52:05.229Z"
   },
   {
    "duration": 275,
    "start_time": "2021-06-10T18:53:27.775Z"
   },
   {
    "duration": 6,
    "start_time": "2021-06-10T18:57:54.890Z"
   },
   {
    "duration": 6,
    "start_time": "2021-06-10T18:58:00.238Z"
   },
   {
    "duration": 7,
    "start_time": "2021-06-10T19:01:33.053Z"
   },
   {
    "duration": 7,
    "start_time": "2021-06-10T19:01:38.133Z"
   },
   {
    "duration": 7,
    "start_time": "2021-06-10T19:01:43.578Z"
   },
   {
    "duration": 1562,
    "start_time": "2021-06-10T20:09:42.557Z"
   },
   {
    "duration": 104,
    "start_time": "2021-06-10T20:09:44.122Z"
   },
   {
    "duration": 18,
    "start_time": "2021-06-10T20:09:44.230Z"
   },
   {
    "duration": 22,
    "start_time": "2021-06-10T20:09:44.252Z"
   },
   {
    "duration": 23,
    "start_time": "2021-06-10T20:09:44.277Z"
   },
   {
    "duration": 13,
    "start_time": "2021-06-10T20:09:44.303Z"
   },
   {
    "duration": 18,
    "start_time": "2021-06-10T20:09:44.318Z"
   },
   {
    "duration": 19,
    "start_time": "2021-06-10T20:09:44.341Z"
   },
   {
    "duration": 14,
    "start_time": "2021-06-10T20:09:44.364Z"
   },
   {
    "duration": 27,
    "start_time": "2021-06-10T20:09:44.382Z"
   },
   {
    "duration": 37,
    "start_time": "2021-06-10T20:09:44.412Z"
   },
   {
    "duration": 10,
    "start_time": "2021-06-10T20:09:44.452Z"
   },
   {
    "duration": 44,
    "start_time": "2021-06-10T20:09:44.465Z"
   },
   {
    "duration": 14,
    "start_time": "2021-06-10T20:09:44.513Z"
   },
   {
    "duration": 25,
    "start_time": "2021-06-10T20:09:44.530Z"
   },
   {
    "duration": 11,
    "start_time": "2021-06-10T20:09:44.558Z"
   },
   {
    "duration": 684,
    "start_time": "2021-06-10T20:09:44.572Z"
   },
   {
    "duration": 10,
    "start_time": "2021-06-10T20:09:45.259Z"
   },
   {
    "duration": 294,
    "start_time": "2021-06-10T20:09:45.271Z"
   },
   {
    "duration": 47,
    "start_time": "2021-06-10T20:09:45.568Z"
   },
   {
    "duration": 11,
    "start_time": "2021-06-10T20:09:45.617Z"
   },
   {
    "duration": 80,
    "start_time": "2021-06-10T20:09:45.631Z"
   },
   {
    "duration": 14,
    "start_time": "2021-06-10T20:09:45.716Z"
   },
   {
    "duration": 83,
    "start_time": "2021-06-10T20:09:45.733Z"
   },
   {
    "duration": 573,
    "start_time": "2021-06-10T20:09:45.819Z"
   },
   {
    "duration": 213,
    "start_time": "2021-06-10T20:09:46.394Z"
   },
   {
    "duration": 434,
    "start_time": "2021-06-10T20:09:46.610Z"
   },
   {
    "duration": -32,
    "start_time": "2021-06-10T20:09:47.079Z"
   },
   {
    "duration": -37,
    "start_time": "2021-06-10T20:09:47.086Z"
   },
   {
    "duration": -37,
    "start_time": "2021-06-10T20:09:47.089Z"
   },
   {
    "duration": 33,
    "start_time": "2021-06-10T20:10:31.352Z"
   },
   {
    "duration": 8,
    "start_time": "2021-06-10T20:10:39.698Z"
   },
   {
    "duration": 260,
    "start_time": "2021-06-10T20:10:43.007Z"
   },
   {
    "duration": 24,
    "start_time": "2021-06-10T20:12:12.009Z"
   },
   {
    "duration": 36,
    "start_time": "2021-06-10T20:12:45.765Z"
   },
   {
    "duration": 6,
    "start_time": "2021-06-10T20:16:10.160Z"
   },
   {
    "duration": 461,
    "start_time": "2021-06-10T20:23:54.661Z"
   },
   {
    "duration": 6860,
    "start_time": "2021-06-10T20:28:51.257Z"
   },
   {
    "duration": 996,
    "start_time": "2021-06-10T20:29:43.474Z"
   },
   {
    "duration": 5,
    "start_time": "2021-06-10T20:30:22.664Z"
   },
   {
    "duration": 650,
    "start_time": "2021-06-10T20:30:38.488Z"
   },
   {
    "duration": 709,
    "start_time": "2021-06-10T20:30:56.040Z"
   },
   {
    "duration": 14,
    "start_time": "2021-06-10T20:32:25.007Z"
   },
   {
    "duration": 709,
    "start_time": "2021-06-10T20:32:32.808Z"
   },
   {
    "duration": 188,
    "start_time": "2021-06-10T20:36:22.978Z"
   },
   {
    "duration": 7,
    "start_time": "2021-06-10T20:37:57.050Z"
   },
   {
    "duration": 8,
    "start_time": "2021-06-10T20:38:28.802Z"
   },
   {
    "duration": 11,
    "start_time": "2021-06-10T20:41:56.997Z"
   },
   {
    "duration": 12,
    "start_time": "2021-06-10T20:42:21.623Z"
   },
   {
    "duration": 9,
    "start_time": "2021-06-10T20:42:25.946Z"
   },
   {
    "duration": 100,
    "start_time": "2021-06-10T20:42:40.876Z"
   },
   {
    "duration": 11,
    "start_time": "2021-06-10T20:42:44.390Z"
   },
   {
    "duration": 12,
    "start_time": "2021-06-10T20:43:44.013Z"
   },
   {
    "duration": 14,
    "start_time": "2021-06-10T20:48:10.763Z"
   },
   {
    "duration": 14,
    "start_time": "2021-06-10T20:49:24.277Z"
   },
   {
    "duration": 16,
    "start_time": "2021-06-10T20:49:43.886Z"
   },
   {
    "duration": 94,
    "start_time": "2021-06-10T20:51:14.105Z"
   },
   {
    "duration": 6687,
    "start_time": "2021-06-10T20:57:00.175Z"
   },
   {
    "duration": 6453,
    "start_time": "2021-06-10T20:57:42.182Z"
   },
   {
    "duration": 15,
    "start_time": "2021-06-10T20:58:37.046Z"
   },
   {
    "duration": 13,
    "start_time": "2021-06-10T20:59:42.468Z"
   },
   {
    "duration": 93,
    "start_time": "2021-06-10T21:00:03.480Z"
   },
   {
    "duration": 279,
    "start_time": "2021-06-10T21:00:11.973Z"
   },
   {
    "duration": 15,
    "start_time": "2021-06-10T21:00:28.573Z"
   },
   {
    "duration": 7,
    "start_time": "2021-06-10T21:04:42.658Z"
   },
   {
    "duration": 8,
    "start_time": "2021-06-10T21:04:59.551Z"
   },
   {
    "duration": 6,
    "start_time": "2021-06-10T21:06:10.198Z"
   },
   {
    "duration": 15,
    "start_time": "2021-06-10T21:13:25.313Z"
   },
   {
    "duration": 9,
    "start_time": "2021-06-10T21:14:23.610Z"
   },
   {
    "duration": 11,
    "start_time": "2021-06-10T21:14:51.441Z"
   },
   {
    "duration": 9,
    "start_time": "2021-06-10T21:15:43.841Z"
   },
   {
    "duration": 101,
    "start_time": "2021-06-10T21:17:40.467Z"
   },
   {
    "duration": 10,
    "start_time": "2021-06-10T21:17:52.416Z"
   },
   {
    "duration": 1956,
    "start_time": "2021-06-11T04:55:58.451Z"
   },
   {
    "duration": 59,
    "start_time": "2021-06-11T04:56:00.410Z"
   },
   {
    "duration": 15,
    "start_time": "2021-06-11T04:56:00.472Z"
   },
   {
    "duration": 18,
    "start_time": "2021-06-11T04:56:00.490Z"
   },
   {
    "duration": 8,
    "start_time": "2021-06-11T04:56:00.510Z"
   },
   {
    "duration": 12,
    "start_time": "2021-06-11T04:56:00.521Z"
   },
   {
    "duration": 10,
    "start_time": "2021-06-11T04:56:00.535Z"
   },
   {
    "duration": 12,
    "start_time": "2021-06-11T04:56:00.547Z"
   },
   {
    "duration": 13,
    "start_time": "2021-06-11T04:56:00.563Z"
   },
   {
    "duration": 9,
    "start_time": "2021-06-11T04:56:00.609Z"
   },
   {
    "duration": 26,
    "start_time": "2021-06-11T04:56:00.620Z"
   },
   {
    "duration": 19,
    "start_time": "2021-06-11T04:56:00.648Z"
   },
   {
    "duration": 18,
    "start_time": "2021-06-11T04:56:00.669Z"
   },
   {
    "duration": 22,
    "start_time": "2021-06-11T04:56:00.690Z"
   },
   {
    "duration": 31,
    "start_time": "2021-06-11T04:56:00.714Z"
   },
   {
    "duration": 12,
    "start_time": "2021-06-11T04:56:00.749Z"
   },
   {
    "duration": 630,
    "start_time": "2021-06-11T04:56:00.764Z"
   },
   {
    "duration": 20,
    "start_time": "2021-06-11T04:56:01.397Z"
   },
   {
    "duration": 816,
    "start_time": "2021-06-11T04:56:01.420Z"
   },
   {
    "duration": 473,
    "start_time": "2021-06-11T04:56:02.239Z"
   },
   {
    "duration": 8,
    "start_time": "2021-06-11T04:56:02.715Z"
   },
   {
    "duration": 211,
    "start_time": "2021-06-11T04:56:02.725Z"
   },
   {
    "duration": 8,
    "start_time": "2021-06-11T04:56:02.939Z"
   },
   {
    "duration": 212,
    "start_time": "2021-06-11T04:56:02.950Z"
   },
   {
    "duration": 467,
    "start_time": "2021-06-11T04:56:03.165Z"
   },
   {
    "duration": 201,
    "start_time": "2021-06-11T04:56:03.634Z"
   },
   {
    "duration": 203,
    "start_time": "2021-06-11T04:56:03.840Z"
   },
   {
    "duration": 5,
    "start_time": "2021-06-11T04:56:04.046Z"
   },
   {
    "duration": 365,
    "start_time": "2021-06-11T04:56:04.053Z"
   },
   {
    "duration": 6,
    "start_time": "2021-06-11T04:56:04.420Z"
   },
   {
    "duration": 219,
    "start_time": "2021-06-11T04:56:04.428Z"
   },
   {
    "duration": 124,
    "start_time": "2021-06-11T04:56:04.649Z"
   },
   {
    "duration": -133,
    "start_time": "2021-06-11T04:56:04.909Z"
   },
   {
    "duration": -135,
    "start_time": "2021-06-11T04:56:04.912Z"
   },
   {
    "duration": -137,
    "start_time": "2021-06-11T04:56:04.916Z"
   },
   {
    "duration": -140,
    "start_time": "2021-06-11T04:56:04.920Z"
   },
   {
    "duration": -142,
    "start_time": "2021-06-11T04:56:04.924Z"
   },
   {
    "duration": -145,
    "start_time": "2021-06-11T04:56:04.928Z"
   },
   {
    "duration": -146,
    "start_time": "2021-06-11T04:56:04.931Z"
   },
   {
    "duration": -148,
    "start_time": "2021-06-11T04:56:04.934Z"
   },
   {
    "duration": 186,
    "start_time": "2021-06-11T04:57:07.758Z"
   },
   {
    "duration": 124,
    "start_time": "2021-06-11T04:57:08.968Z"
   },
   {
    "duration": 439,
    "start_time": "2021-06-11T04:57:41.129Z"
   },
   {
    "duration": 232,
    "start_time": "2021-06-11T04:57:43.997Z"
   },
   {
    "duration": 9,
    "start_time": "2021-06-11T04:57:45.817Z"
   },
   {
    "duration": 12,
    "start_time": "2021-06-11T04:57:46.942Z"
   },
   {
    "duration": 15,
    "start_time": "2021-06-11T04:57:49.803Z"
   },
   {
    "duration": 14,
    "start_time": "2021-06-11T04:57:57.243Z"
   },
   {
    "duration": 7,
    "start_time": "2021-06-11T04:57:58.483Z"
   },
   {
    "duration": 14,
    "start_time": "2021-06-11T04:57:59.478Z"
   },
   {
    "duration": 12,
    "start_time": "2021-06-11T04:58:01.050Z"
   },
   {
    "duration": 8507,
    "start_time": "2021-06-11T05:01:56.853Z"
   },
   {
    "duration": 20,
    "start_time": "2021-06-11T05:03:49.150Z"
   },
   {
    "duration": 10,
    "start_time": "2021-06-11T05:05:51.829Z"
   },
   {
    "duration": 21,
    "start_time": "2021-06-11T05:05:56.394Z"
   },
   {
    "duration": 120,
    "start_time": "2021-06-11T05:14:52.386Z"
   },
   {
    "duration": 120,
    "start_time": "2021-06-11T05:14:57.053Z"
   },
   {
    "duration": 411,
    "start_time": "2021-06-11T05:26:59.926Z"
   },
   {
    "duration": 364,
    "start_time": "2021-06-11T05:27:23.497Z"
   },
   {
    "duration": 362,
    "start_time": "2021-06-11T05:27:40.490Z"
   },
   {
    "duration": 14,
    "start_time": "2021-06-11T05:30:23.364Z"
   },
   {
    "duration": 21,
    "start_time": "2021-06-11T05:30:30.224Z"
   },
   {
    "duration": 1984,
    "start_time": "2021-06-11T18:04:32.121Z"
   },
   {
    "duration": 93,
    "start_time": "2021-06-11T18:04:34.107Z"
   },
   {
    "duration": 18,
    "start_time": "2021-06-11T18:04:36.552Z"
   },
   {
    "duration": 16,
    "start_time": "2021-06-11T18:04:39.466Z"
   },
   {
    "duration": 7,
    "start_time": "2021-06-11T18:04:43.031Z"
   },
   {
    "duration": 13,
    "start_time": "2021-06-11T18:07:06.321Z"
   },
   {
    "duration": 12,
    "start_time": "2021-06-11T18:07:23.299Z"
   },
   {
    "duration": 5,
    "start_time": "2021-06-11T18:07:38.392Z"
   },
   {
    "duration": 6,
    "start_time": "2021-06-11T18:07:58.937Z"
   },
   {
    "duration": 5,
    "start_time": "2021-06-11T18:08:10.289Z"
   },
   {
    "duration": 12,
    "start_time": "2021-06-11T18:09:54.408Z"
   },
   {
    "duration": 21,
    "start_time": "2021-06-11T18:10:22.468Z"
   },
   {
    "duration": 21,
    "start_time": "2021-06-11T18:11:38.503Z"
   },
   {
    "duration": 15,
    "start_time": "2021-06-11T18:11:49.773Z"
   },
   {
    "duration": 15,
    "start_time": "2021-06-11T18:11:52.409Z"
   },
   {
    "duration": 5,
    "start_time": "2021-06-11T18:12:05.022Z"
   },
   {
    "duration": 6,
    "start_time": "2021-06-11T18:14:54.348Z"
   },
   {
    "duration": 6,
    "start_time": "2021-06-11T18:15:18.358Z"
   },
   {
    "duration": 545,
    "start_time": "2021-06-11T18:17:52.906Z"
   },
   {
    "duration": 356,
    "start_time": "2021-06-11T18:18:01.704Z"
   },
   {
    "duration": 376,
    "start_time": "2021-06-11T18:19:00.181Z"
   },
   {
    "duration": 784,
    "start_time": "2021-06-11T18:19:31.433Z"
   },
   {
    "duration": 378,
    "start_time": "2021-06-11T18:19:47.975Z"
   },
   {
    "duration": 333,
    "start_time": "2021-06-11T18:20:30.152Z"
   },
   {
    "duration": 497,
    "start_time": "2021-06-11T18:20:33.388Z"
   },
   {
    "duration": 15,
    "start_time": "2021-06-11T18:21:52.714Z"
   },
   {
    "duration": 7,
    "start_time": "2021-06-11T18:23:07.706Z"
   },
   {
    "duration": 20,
    "start_time": "2021-06-11T18:23:46.081Z"
   },
   {
    "duration": 24,
    "start_time": "2021-06-11T18:26:02.788Z"
   },
   {
    "duration": 13,
    "start_time": "2021-06-11T18:26:42.583Z"
   },
   {
    "duration": 6,
    "start_time": "2021-06-11T18:28:59.171Z"
   },
   {
    "duration": 8,
    "start_time": "2021-06-11T18:29:41.958Z"
   },
   {
    "duration": 11,
    "start_time": "2021-06-11T18:29:47.283Z"
   },
   {
    "duration": 335,
    "start_time": "2021-06-11T18:30:08.896Z"
   },
   {
    "duration": 13,
    "start_time": "2021-06-11T18:30:15.236Z"
   },
   {
    "duration": 24,
    "start_time": "2021-06-11T18:30:27.271Z"
   },
   {
    "duration": 1960,
    "start_time": "2021-06-12T15:59:54.778Z"
   },
   {
    "duration": 72,
    "start_time": "2021-06-12T15:59:56.741Z"
   },
   {
    "duration": 16,
    "start_time": "2021-06-12T15:59:56.816Z"
   },
   {
    "duration": 25,
    "start_time": "2021-06-12T15:59:56.834Z"
   },
   {
    "duration": 11,
    "start_time": "2021-06-12T15:59:56.861Z"
   },
   {
    "duration": 20,
    "start_time": "2021-06-12T15:59:56.874Z"
   },
   {
    "duration": 17,
    "start_time": "2021-06-12T15:59:56.896Z"
   },
   {
    "duration": 27,
    "start_time": "2021-06-12T15:59:56.917Z"
   },
   {
    "duration": 25,
    "start_time": "2021-06-12T15:59:56.947Z"
   },
   {
    "duration": 18,
    "start_time": "2021-06-12T15:59:56.975Z"
   },
   {
    "duration": 35,
    "start_time": "2021-06-12T15:59:56.995Z"
   },
   {
    "duration": 13,
    "start_time": "2021-06-12T15:59:57.033Z"
   },
   {
    "duration": 30,
    "start_time": "2021-06-12T15:59:57.048Z"
   },
   {
    "duration": 29,
    "start_time": "2021-06-12T15:59:57.080Z"
   },
   {
    "duration": 23,
    "start_time": "2021-06-12T15:59:57.111Z"
   },
   {
    "duration": 22,
    "start_time": "2021-06-12T15:59:57.136Z"
   },
   {
    "duration": 615,
    "start_time": "2021-06-12T15:59:57.162Z"
   },
   {
    "duration": 9,
    "start_time": "2021-06-12T15:59:57.779Z"
   },
   {
    "duration": 788,
    "start_time": "2021-06-12T15:59:57.791Z"
   },
   {
    "duration": 488,
    "start_time": "2021-06-12T15:59:58.582Z"
   },
   {
    "duration": 10,
    "start_time": "2021-06-12T15:59:59.072Z"
   },
   {
    "duration": 220,
    "start_time": "2021-06-12T15:59:59.084Z"
   },
   {
    "duration": 10,
    "start_time": "2021-06-12T15:59:59.311Z"
   },
   {
    "duration": 235,
    "start_time": "2021-06-12T15:59:59.324Z"
   },
   {
    "duration": 443,
    "start_time": "2021-06-12T15:59:59.565Z"
   },
   {
    "duration": 225,
    "start_time": "2021-06-12T16:00:00.011Z"
   },
   {
    "duration": 209,
    "start_time": "2021-06-12T16:00:00.238Z"
   },
   {
    "duration": 15,
    "start_time": "2021-06-12T16:00:00.450Z"
   },
   {
    "duration": 378,
    "start_time": "2021-06-12T16:00:00.468Z"
   },
   {
    "duration": 8,
    "start_time": "2021-06-12T16:00:00.848Z"
   },
   {
    "duration": 332,
    "start_time": "2021-06-12T16:00:00.859Z"
   },
   {
    "duration": 492,
    "start_time": "2021-06-12T16:00:01.193Z"
   },
   {
    "duration": 274,
    "start_time": "2021-06-12T16:00:01.687Z"
   },
   {
    "duration": 13,
    "start_time": "2021-06-12T16:00:01.964Z"
   },
   {
    "duration": 15,
    "start_time": "2021-06-12T16:00:01.980Z"
   },
   {
    "duration": 15,
    "start_time": "2021-06-12T16:00:01.997Z"
   },
   {
    "duration": 49,
    "start_time": "2021-06-12T16:00:02.015Z"
   },
   {
    "duration": 7,
    "start_time": "2021-06-12T16:00:02.067Z"
   },
   {
    "duration": 11,
    "start_time": "2021-06-12T16:00:02.077Z"
   },
   {
    "duration": 16,
    "start_time": "2021-06-12T16:00:02.091Z"
   },
   {
    "duration": 59,
    "start_time": "2021-06-12T16:00:02.110Z"
   },
   {
    "duration": 316,
    "start_time": "2021-06-15T19:58:49.279Z"
   },
   {
    "duration": 2410,
    "start_time": "2021-06-15T20:00:46.721Z"
   },
   {
    "duration": 111,
    "start_time": "2021-06-15T20:00:49.135Z"
   },
   {
    "duration": 15,
    "start_time": "2021-06-15T20:00:49.249Z"
   },
   {
    "duration": 12,
    "start_time": "2021-06-15T20:00:49.266Z"
   },
   {
    "duration": 10,
    "start_time": "2021-06-15T20:00:49.281Z"
   },
   {
    "duration": 10,
    "start_time": "2021-06-15T20:00:49.293Z"
   },
   {
    "duration": 6,
    "start_time": "2021-06-15T20:00:49.305Z"
   },
   {
    "duration": 9,
    "start_time": "2021-06-15T20:00:49.358Z"
   },
   {
    "duration": 9,
    "start_time": "2021-06-15T20:00:49.370Z"
   },
   {
    "duration": 13,
    "start_time": "2021-06-15T20:00:49.381Z"
   },
   {
    "duration": 63,
    "start_time": "2021-06-15T20:00:49.396Z"
   },
   {
    "duration": 9,
    "start_time": "2021-06-15T20:00:49.462Z"
   },
   {
    "duration": 15,
    "start_time": "2021-06-15T20:00:49.474Z"
   },
   {
    "duration": 14,
    "start_time": "2021-06-15T20:00:49.492Z"
   },
   {
    "duration": 58,
    "start_time": "2021-06-15T20:00:49.509Z"
   },
   {
    "duration": 16,
    "start_time": "2021-06-15T20:00:49.570Z"
   },
   {
    "duration": 12,
    "start_time": "2021-06-15T20:00:49.589Z"
   },
   {
    "duration": 592,
    "start_time": "2021-06-15T20:00:49.605Z"
   },
   {
    "duration": 12,
    "start_time": "2021-06-15T20:00:50.199Z"
   },
   {
    "duration": 744,
    "start_time": "2021-06-15T20:00:50.213Z"
   },
   {
    "duration": 522,
    "start_time": "2021-06-15T20:00:50.960Z"
   },
   {
    "duration": 10,
    "start_time": "2021-06-15T20:00:51.485Z"
   },
   {
    "duration": 201,
    "start_time": "2021-06-15T20:00:51.500Z"
   },
   {
    "duration": 11,
    "start_time": "2021-06-15T20:00:51.705Z"
   },
   {
    "duration": 314,
    "start_time": "2021-06-15T20:00:51.719Z"
   },
   {
    "duration": 580,
    "start_time": "2021-06-15T20:00:52.036Z"
   },
   {
    "duration": 195,
    "start_time": "2021-06-15T20:00:52.619Z"
   },
   {
    "duration": 194,
    "start_time": "2021-06-15T20:00:52.817Z"
   },
   {
    "duration": 6,
    "start_time": "2021-06-15T20:00:53.014Z"
   },
   {
    "duration": 353,
    "start_time": "2021-06-15T20:00:53.023Z"
   },
   {
    "duration": 7,
    "start_time": "2021-06-15T20:00:53.378Z"
   },
   {
    "duration": 213,
    "start_time": "2021-06-15T20:00:53.388Z"
   },
   {
    "duration": 432,
    "start_time": "2021-06-15T20:00:53.604Z"
   },
   {
    "duration": 237,
    "start_time": "2021-06-15T20:00:54.038Z"
   },
   {
    "duration": 8,
    "start_time": "2021-06-15T20:00:54.278Z"
   },
   {
    "duration": 11,
    "start_time": "2021-06-15T20:00:54.289Z"
   },
   {
    "duration": 15,
    "start_time": "2021-06-15T20:00:54.302Z"
   },
   {
    "duration": 14,
    "start_time": "2021-06-15T20:00:54.355Z"
   },
   {
    "duration": 7,
    "start_time": "2021-06-15T20:00:54.372Z"
   },
   {
    "duration": 15,
    "start_time": "2021-06-15T20:00:54.382Z"
   },
   {
    "duration": 12,
    "start_time": "2021-06-15T20:00:54.399Z"
   },
   {
    "duration": 59,
    "start_time": "2021-06-15T20:00:54.414Z"
   },
   {
    "duration": 15,
    "start_time": "2021-06-15T20:02:32.426Z"
   },
   {
    "duration": 15,
    "start_time": "2021-06-15T20:03:47.056Z"
   },
   {
    "duration": 14,
    "start_time": "2021-06-15T20:08:34.046Z"
   },
   {
    "duration": 14,
    "start_time": "2021-06-15T20:09:45.011Z"
   },
   {
    "duration": 15,
    "start_time": "2021-06-15T20:10:26.840Z"
   },
   {
    "duration": 13,
    "start_time": "2021-06-15T20:10:41.829Z"
   },
   {
    "duration": 10,
    "start_time": "2021-06-15T20:11:25.400Z"
   },
   {
    "duration": 8,
    "start_time": "2021-06-15T20:15:19.248Z"
   },
   {
    "duration": 96,
    "start_time": "2021-06-15T20:15:39.896Z"
   },
   {
    "duration": 15,
    "start_time": "2021-06-15T20:15:52.653Z"
   },
   {
    "duration": 9,
    "start_time": "2021-06-15T20:16:03.401Z"
   },
   {
    "duration": 17,
    "start_time": "2021-06-15T20:16:32.806Z"
   },
   {
    "duration": 9,
    "start_time": "2021-06-15T20:16:36.439Z"
   },
   {
    "duration": 16,
    "start_time": "2021-06-15T20:18:15.828Z"
   },
   {
    "duration": 9,
    "start_time": "2021-06-15T20:18:17.710Z"
   },
   {
    "duration": 6,
    "start_time": "2021-06-15T20:18:43.187Z"
   },
   {
    "duration": 20,
    "start_time": "2021-06-15T20:19:21.031Z"
   },
   {
    "duration": 14,
    "start_time": "2021-06-15T20:20:15.655Z"
   },
   {
    "duration": 7,
    "start_time": "2021-06-15T20:20:16.286Z"
   },
   {
    "duration": 17,
    "start_time": "2021-06-15T20:21:02.389Z"
   },
   {
    "duration": 17,
    "start_time": "2021-06-15T20:21:14.694Z"
   },
   {
    "duration": 20,
    "start_time": "2021-06-15T20:21:53.589Z"
   },
   {
    "duration": 20,
    "start_time": "2021-06-15T20:22:03.810Z"
   },
   {
    "duration": 17,
    "start_time": "2021-06-15T20:22:28.206Z"
   },
   {
    "duration": 6,
    "start_time": "2021-06-15T20:22:29.109Z"
   },
   {
    "duration": 21,
    "start_time": "2021-06-15T20:22:29.777Z"
   },
   {
    "duration": 6,
    "start_time": "2021-06-15T20:26:54.646Z"
   },
   {
    "duration": 20,
    "start_time": "2021-06-15T20:27:24.804Z"
   },
   {
    "duration": 9,
    "start_time": "2021-06-15T20:29:14.899Z"
   },
   {
    "duration": 8,
    "start_time": "2021-06-15T20:29:52.060Z"
   },
   {
    "duration": 508,
    "start_time": "2021-06-15T20:30:00.539Z"
   },
   {
    "duration": 9,
    "start_time": "2021-06-15T20:30:12.194Z"
   },
   {
    "duration": 9,
    "start_time": "2021-06-15T20:30:23.523Z"
   },
   {
    "duration": 9,
    "start_time": "2021-06-15T20:31:27.379Z"
   },
   {
    "duration": 9,
    "start_time": "2021-06-15T20:31:36.198Z"
   },
   {
    "duration": 84,
    "start_time": "2021-06-15T20:31:52.983Z"
   },
   {
    "duration": 8,
    "start_time": "2021-06-15T20:31:55.709Z"
   },
   {
    "duration": 273,
    "start_time": "2021-06-15T20:33:44.228Z"
   },
   {
    "duration": 274,
    "start_time": "2021-06-15T20:34:20.064Z"
   },
   {
    "duration": 242,
    "start_time": "2021-06-15T20:34:43.144Z"
   },
   {
    "duration": 98,
    "start_time": "2021-06-15T20:35:23.563Z"
   },
   {
    "duration": 314,
    "start_time": "2021-06-15T20:35:39.393Z"
   },
   {
    "duration": 374,
    "start_time": "2021-06-15T20:35:44.797Z"
   },
   {
    "duration": 17,
    "start_time": "2021-06-15T20:35:58.863Z"
   },
   {
    "duration": 40,
    "start_time": "2021-06-15T20:36:18.019Z"
   },
   {
    "duration": 10,
    "start_time": "2021-06-15T20:37:00.584Z"
   },
   {
    "duration": 12,
    "start_time": "2021-06-15T20:37:08.706Z"
   },
   {
    "duration": 15,
    "start_time": "2021-06-15T20:37:27.124Z"
   },
   {
    "duration": 40,
    "start_time": "2021-06-15T20:38:15.512Z"
   },
   {
    "duration": 10,
    "start_time": "2021-06-15T20:38:45.391Z"
   },
   {
    "duration": 93,
    "start_time": "2021-06-15T20:39:30.222Z"
   },
   {
    "duration": 9,
    "start_time": "2021-06-15T20:39:33.262Z"
   },
   {
    "duration": 7,
    "start_time": "2021-06-15T20:39:47.676Z"
   },
   {
    "duration": 11,
    "start_time": "2021-06-15T20:45:50.655Z"
   },
   {
    "duration": 7,
    "start_time": "2021-06-15T20:45:58.407Z"
   },
   {
    "duration": 8,
    "start_time": "2021-06-15T20:46:22.633Z"
   },
   {
    "duration": 5,
    "start_time": "2021-06-15T20:46:23.101Z"
   },
   {
    "duration": 10,
    "start_time": "2021-06-15T20:46:46.556Z"
   },
   {
    "duration": 8,
    "start_time": "2021-06-15T20:50:35.631Z"
   },
   {
    "duration": 15,
    "start_time": "2021-06-15T20:50:45.816Z"
   },
   {
    "duration": 12,
    "start_time": "2021-06-15T20:51:14.010Z"
   },
   {
    "duration": 13,
    "start_time": "2021-06-15T20:51:40.599Z"
   },
   {
    "duration": 6,
    "start_time": "2021-06-15T20:51:56.358Z"
   },
   {
    "duration": 19,
    "start_time": "2021-06-15T20:54:24.425Z"
   },
   {
    "duration": 9,
    "start_time": "2021-06-15T20:57:38.437Z"
   },
   {
    "duration": 10,
    "start_time": "2021-06-15T20:59:13.843Z"
   },
   {
    "duration": 680,
    "start_time": "2021-06-15T20:59:47.933Z"
   },
   {
    "duration": 2044,
    "start_time": "2021-06-15T21:00:02.662Z"
   },
   {
    "duration": 88,
    "start_time": "2021-06-15T21:00:04.709Z"
   },
   {
    "duration": 16,
    "start_time": "2021-06-15T21:00:04.800Z"
   },
   {
    "duration": 21,
    "start_time": "2021-06-15T21:00:04.819Z"
   },
   {
    "duration": 16,
    "start_time": "2021-06-15T21:00:04.843Z"
   },
   {
    "duration": 60,
    "start_time": "2021-06-15T21:00:04.862Z"
   },
   {
    "duration": 27,
    "start_time": "2021-06-15T21:00:04.926Z"
   },
   {
    "duration": 17,
    "start_time": "2021-06-15T21:00:04.957Z"
   },
   {
    "duration": 23,
    "start_time": "2021-06-15T21:00:04.980Z"
   },
   {
    "duration": 20,
    "start_time": "2021-06-15T21:00:05.007Z"
   },
   {
    "duration": 48,
    "start_time": "2021-06-15T21:00:05.030Z"
   },
   {
    "duration": 10,
    "start_time": "2021-06-15T21:00:05.082Z"
   },
   {
    "duration": 31,
    "start_time": "2021-06-15T21:00:05.095Z"
   },
   {
    "duration": 30,
    "start_time": "2021-06-15T21:00:05.130Z"
   },
   {
    "duration": 27,
    "start_time": "2021-06-15T21:00:05.163Z"
   },
   {
    "duration": 17,
    "start_time": "2021-06-15T21:00:05.193Z"
   },
   {
    "duration": 78,
    "start_time": "2021-06-15T21:00:05.212Z"
   },
   {
    "duration": 18,
    "start_time": "2021-06-15T21:00:05.294Z"
   },
   {
    "duration": 10,
    "start_time": "2021-06-15T21:00:05.315Z"
   },
   {
    "duration": 72,
    "start_time": "2021-06-15T21:00:05.329Z"
   },
   {
    "duration": 33,
    "start_time": "2021-06-15T21:00:05.404Z"
   },
   {
    "duration": 23,
    "start_time": "2021-06-15T21:00:05.440Z"
   },
   {
    "duration": 1008,
    "start_time": "2021-06-15T21:00:05.466Z"
   },
   {
    "duration": 15,
    "start_time": "2021-06-15T21:00:06.477Z"
   },
   {
    "duration": 879,
    "start_time": "2021-06-15T21:00:06.496Z"
   },
   {
    "duration": 513,
    "start_time": "2021-06-15T21:00:07.377Z"
   },
   {
    "duration": 9,
    "start_time": "2021-06-15T21:00:07.895Z"
   },
   {
    "duration": 212,
    "start_time": "2021-06-15T21:00:07.908Z"
   },
   {
    "duration": 11,
    "start_time": "2021-06-15T21:00:08.123Z"
   },
   {
    "duration": 206,
    "start_time": "2021-06-15T21:00:08.155Z"
   },
   {
    "duration": 418,
    "start_time": "2021-06-15T21:00:08.364Z"
   },
   {
    "duration": 230,
    "start_time": "2021-06-15T21:00:08.785Z"
   },
   {
    "duration": 215,
    "start_time": "2021-06-15T21:00:09.018Z"
   },
   {
    "duration": 7,
    "start_time": "2021-06-15T21:00:09.236Z"
   },
   {
    "duration": 357,
    "start_time": "2021-06-15T21:00:09.245Z"
   },
   {
    "duration": 6,
    "start_time": "2021-06-15T21:00:09.604Z"
   },
   {
    "duration": 215,
    "start_time": "2021-06-15T21:00:09.612Z"
   },
   {
    "duration": 443,
    "start_time": "2021-06-15T21:00:09.830Z"
   },
   {
    "duration": 243,
    "start_time": "2021-06-15T21:00:10.275Z"
   },
   {
    "duration": 8,
    "start_time": "2021-06-15T21:00:10.521Z"
   },
   {
    "duration": 33,
    "start_time": "2021-06-15T21:00:10.531Z"
   },
   {
    "duration": 14,
    "start_time": "2021-06-15T21:00:10.567Z"
   },
   {
    "duration": 22,
    "start_time": "2021-06-15T21:00:10.584Z"
   },
   {
    "duration": 13,
    "start_time": "2021-06-15T21:00:10.608Z"
   },
   {
    "duration": 37,
    "start_time": "2021-06-15T21:00:10.623Z"
   },
   {
    "duration": 11,
    "start_time": "2021-06-15T21:00:10.663Z"
   },
   {
    "duration": 27,
    "start_time": "2021-06-15T21:00:10.676Z"
   },
   {
    "duration": 16,
    "start_time": "2021-06-15T21:00:52.959Z"
   },
   {
    "duration": 16,
    "start_time": "2021-06-15T21:01:45.296Z"
   },
   {
    "duration": 15,
    "start_time": "2021-06-15T21:01:50.170Z"
   },
   {
    "duration": 17,
    "start_time": "2021-06-15T21:01:56.413Z"
   },
   {
    "duration": 15,
    "start_time": "2021-06-15T21:02:03.684Z"
   },
   {
    "duration": 13,
    "start_time": "2021-06-15T21:04:48.145Z"
   },
   {
    "duration": 13,
    "start_time": "2021-06-15T21:05:27.582Z"
   },
   {
    "duration": 546,
    "start_time": "2021-06-15T21:06:14.618Z"
   },
   {
    "duration": 18,
    "start_time": "2021-06-15T21:07:53.112Z"
   },
   {
    "duration": 14,
    "start_time": "2021-06-15T21:07:56.278Z"
   },
   {
    "duration": 17,
    "start_time": "2021-06-15T21:07:59.927Z"
   },
   {
    "duration": 16,
    "start_time": "2021-06-15T21:08:10.528Z"
   },
   {
    "duration": 24,
    "start_time": "2021-06-15T21:08:18.710Z"
   },
   {
    "duration": 25,
    "start_time": "2021-06-15T21:09:35.437Z"
   },
   {
    "duration": 477,
    "start_time": "2021-06-15T21:15:08.954Z"
   },
   {
    "duration": 395,
    "start_time": "2021-06-15T21:15:37.579Z"
   },
   {
    "duration": 430,
    "start_time": "2021-06-15T21:15:59.739Z"
   },
   {
    "duration": 397,
    "start_time": "2021-06-15T21:18:38.349Z"
   },
   {
    "duration": 397,
    "start_time": "2021-06-15T21:18:48.036Z"
   },
   {
    "duration": 387,
    "start_time": "2021-06-15T21:18:56.469Z"
   },
   {
    "duration": 408,
    "start_time": "2021-06-15T21:19:09.204Z"
   },
   {
    "duration": 418,
    "start_time": "2021-06-15T21:19:38.114Z"
   },
   {
    "duration": 441,
    "start_time": "2021-06-15T21:19:47.808Z"
   },
   {
    "duration": 99,
    "start_time": "2021-06-15T21:20:23.352Z"
   },
   {
    "duration": 474,
    "start_time": "2021-06-15T21:23:52.218Z"
   },
   {
    "duration": 440,
    "start_time": "2021-06-15T21:24:11.285Z"
   },
   {
    "duration": 435,
    "start_time": "2021-06-15T21:24:57.168Z"
   },
   {
    "duration": 629,
    "start_time": "2021-06-15T21:25:19.405Z"
   },
   {
    "duration": 852,
    "start_time": "2021-06-15T21:25:26.429Z"
   },
   {
    "duration": 724,
    "start_time": "2021-06-15T21:25:32.597Z"
   },
   {
    "duration": 947,
    "start_time": "2021-06-15T21:25:46.419Z"
   },
   {
    "duration": 756,
    "start_time": "2021-06-15T21:26:28.987Z"
   },
   {
    "duration": 534,
    "start_time": "2021-06-15T21:26:39.587Z"
   },
   {
    "duration": 537,
    "start_time": "2021-06-15T21:27:06.482Z"
   },
   {
    "duration": 963,
    "start_time": "2021-06-15T21:27:16.993Z"
   },
   {
    "duration": 411,
    "start_time": "2021-06-15T21:27:33.484Z"
   },
   {
    "duration": 625,
    "start_time": "2021-06-15T21:27:43.116Z"
   },
   {
    "duration": 511,
    "start_time": "2021-06-15T21:28:03.144Z"
   },
   {
    "duration": 488,
    "start_time": "2021-06-15T21:28:57.210Z"
   },
   {
    "duration": 682,
    "start_time": "2021-06-15T21:30:32.075Z"
   },
   {
    "duration": 651,
    "start_time": "2021-06-15T21:30:38.507Z"
   },
   {
    "duration": 610,
    "start_time": "2021-06-15T21:31:08.255Z"
   },
   {
    "duration": 462,
    "start_time": "2021-06-15T21:31:20.306Z"
   },
   {
    "duration": 482,
    "start_time": "2021-06-15T21:31:58.445Z"
   },
   {
    "duration": 475,
    "start_time": "2021-06-15T21:32:40.011Z"
   },
   {
    "duration": 472,
    "start_time": "2021-06-15T21:33:06.169Z"
   },
   {
    "duration": 572,
    "start_time": "2021-06-15T21:33:16.803Z"
   },
   {
    "duration": 472,
    "start_time": "2021-06-15T21:33:20.375Z"
   },
   {
    "duration": 670,
    "start_time": "2021-06-15T21:33:26.067Z"
   },
   {
    "duration": 513,
    "start_time": "2021-06-15T21:33:43.606Z"
   },
   {
    "duration": 10,
    "start_time": "2021-06-15T22:10:20.048Z"
   },
   {
    "duration": 15,
    "start_time": "2021-06-15T22:11:06.740Z"
   },
   {
    "duration": 13,
    "start_time": "2021-06-15T22:11:57.201Z"
   },
   {
    "duration": 20,
    "start_time": "2021-06-15T22:12:35.836Z"
   },
   {
    "duration": 2002,
    "start_time": "2021-06-16T21:10:24.159Z"
   },
   {
    "duration": 127,
    "start_time": "2021-06-16T21:10:26.164Z"
   },
   {
    "duration": 32,
    "start_time": "2021-06-16T21:10:26.293Z"
   },
   {
    "duration": 13,
    "start_time": "2021-06-16T21:10:26.328Z"
   },
   {
    "duration": 8,
    "start_time": "2021-06-16T21:10:26.344Z"
   },
   {
    "duration": 51,
    "start_time": "2021-06-16T21:10:26.355Z"
   },
   {
    "duration": 19,
    "start_time": "2021-06-16T21:10:26.409Z"
   },
   {
    "duration": 10,
    "start_time": "2021-06-16T21:10:26.433Z"
   },
   {
    "duration": 11,
    "start_time": "2021-06-16T21:10:26.448Z"
   },
   {
    "duration": 48,
    "start_time": "2021-06-16T21:10:26.462Z"
   },
   {
    "duration": 30,
    "start_time": "2021-06-16T21:10:26.513Z"
   },
   {
    "duration": 7,
    "start_time": "2021-06-16T21:10:26.546Z"
   },
   {
    "duration": 15,
    "start_time": "2021-06-16T21:10:26.556Z"
   },
   {
    "duration": 49,
    "start_time": "2021-06-16T21:10:26.573Z"
   },
   {
    "duration": 18,
    "start_time": "2021-06-16T21:10:26.625Z"
   },
   {
    "duration": 22,
    "start_time": "2021-06-16T21:10:26.646Z"
   },
   {
    "duration": 49,
    "start_time": "2021-06-16T21:10:26.701Z"
   },
   {
    "duration": 12,
    "start_time": "2021-06-16T21:10:26.753Z"
   },
   {
    "duration": 40,
    "start_time": "2021-06-16T21:10:26.767Z"
   },
   {
    "duration": 15,
    "start_time": "2021-06-16T21:10:26.810Z"
   },
   {
    "duration": 21,
    "start_time": "2021-06-16T21:10:26.828Z"
   },
   {
    "duration": 50,
    "start_time": "2021-06-16T21:10:26.852Z"
   },
   {
    "duration": 887,
    "start_time": "2021-06-16T21:10:26.911Z"
   },
   {
    "duration": 752,
    "start_time": "2021-06-16T21:10:27.803Z"
   },
   {
    "duration": 10,
    "start_time": "2021-06-16T21:10:28.558Z"
   },
   {
    "duration": 1014,
    "start_time": "2021-06-16T21:10:28.571Z"
   },
   {
    "duration": 406,
    "start_time": "2021-06-16T21:10:29.602Z"
   },
   {
    "duration": 14,
    "start_time": "2021-06-16T21:10:30.011Z"
   },
   {
    "duration": 218,
    "start_time": "2021-06-16T21:10:30.028Z"
   },
   {
    "duration": 8,
    "start_time": "2021-06-16T21:10:30.249Z"
   },
   {
    "duration": 226,
    "start_time": "2021-06-16T21:10:30.259Z"
   },
   {
    "duration": 565,
    "start_time": "2021-06-16T21:10:30.487Z"
   },
   {
    "duration": 238,
    "start_time": "2021-06-16T21:10:31.054Z"
   },
   {
    "duration": 397,
    "start_time": "2021-06-16T21:10:31.295Z"
   },
   {
    "duration": 6,
    "start_time": "2021-06-16T21:10:31.695Z"
   },
   {
    "duration": 231,
    "start_time": "2021-06-16T21:10:31.705Z"
   },
   {
    "duration": 5,
    "start_time": "2021-06-16T21:10:31.939Z"
   },
   {
    "duration": 229,
    "start_time": "2021-06-16T21:10:31.947Z"
   },
   {
    "duration": 484,
    "start_time": "2021-06-16T21:10:32.179Z"
   },
   {
    "duration": 272,
    "start_time": "2021-06-16T21:10:32.665Z"
   },
   {
    "duration": 8,
    "start_time": "2021-06-16T21:10:32.940Z"
   },
   {
    "duration": 24,
    "start_time": "2021-06-16T21:10:32.950Z"
   },
   {
    "duration": 38,
    "start_time": "2021-06-16T21:10:32.977Z"
   },
   {
    "duration": 25,
    "start_time": "2021-06-16T21:10:33.017Z"
   },
   {
    "duration": 21,
    "start_time": "2021-06-16T21:10:33.044Z"
   },
   {
    "duration": 32,
    "start_time": "2021-06-16T21:10:33.068Z"
   },
   {
    "duration": 14,
    "start_time": "2021-06-16T21:10:33.104Z"
   },
   {
    "duration": 26,
    "start_time": "2021-06-16T21:10:33.122Z"
   }
  ],
  "kernelspec": {
   "display_name": "Python 3",
   "language": "python",
   "name": "python3"
  },
  "language_info": {
   "codemirror_mode": {
    "name": "ipython",
    "version": 3
   },
   "file_extension": ".py",
   "mimetype": "text/x-python",
   "name": "python",
   "nbconvert_exporter": "python",
   "pygments_lexer": "ipython3",
   "version": "3.8.8"
  },
  "toc": {
   "base_numbering": 1,
   "nav_menu": {},
   "number_sections": true,
   "sideBar": true,
   "skip_h1_title": true,
   "title_cell": "Table of Contents",
   "title_sidebar": "Contents",
   "toc_cell": false,
   "toc_position": {
    "height": "calc(100% - 180px)",
    "left": "10px",
    "top": "150px",
    "width": "244.176px"
   },
   "toc_section_display": true,
   "toc_window_display": false
  }
 },
 "nbformat": 4,
 "nbformat_minor": 2
}
